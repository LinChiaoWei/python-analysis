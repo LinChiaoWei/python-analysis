{
 "cells": [
  {
   "cell_type": "markdown",
   "id": "fb92fff2",
   "metadata": {},
   "source": [
    "### DataFrame的操作\n",
    "https://www.perplexity.ai/search/c9eb03d9-5681-4f6c-956d-6764ee19c80a"
   ]
  },
  {
   "cell_type": "code",
   "execution_count": null,
   "id": "50ccf4c2",
   "metadata": {},
   "outputs": [],
   "source": [
    "import numpy as np\n",
    "import pandas as pd\n",
    "from pandas import Series,DataFrame\n",
    "\n",
    "np.random.seed(42)\n",
    "scores = np.random.randint(50, 101,(50,5))\n",
    "df1:DataFrame = pd.DataFrame(scores,\n",
    "             index=[f'學號{i}' for i in range(1,51)],\n",
    "             columns=[\"國文\",\"英文\",\"數學\",\"歷史\",\"生物\"])\n",
    "df1"
   ]
  },
  {
   "cell_type": "code",
   "execution_count": null,
   "id": "bddde283",
   "metadata": {},
   "outputs": [],
   "source": [
    "#選取1欄\n",
    "df1['國文']\n",
    "df1['英文']"
   ]
  },
  {
   "cell_type": "code",
   "execution_count": null,
   "id": "a307c039",
   "metadata": {},
   "outputs": [],
   "source": [
    "#選取多欄\n",
    "#df[list]\n",
    "\n",
    "df1[['國文','英文']]"
   ]
  },
  {
   "cell_type": "markdown",
   "id": "602e30ce",
   "metadata": {},
   "source": [
    "### 列的選取\n",
    "- df.iloc\n",
    "- df.loc"
   ]
  },
  {
   "cell_type": "code",
   "execution_count": null,
   "id": "cfbd7fea",
   "metadata": {},
   "outputs": [],
   "source": [
    "#loc[]的選取\n",
    "\n",
    "df1.loc['學號1']"
   ]
  },
  {
   "cell_type": "code",
   "execution_count": null,
   "id": "935e9d85",
   "metadata": {},
   "outputs": [],
   "source": [
    "df1.loc[['學號1','學號25']]"
   ]
  },
  {
   "cell_type": "code",
   "execution_count": null,
   "id": "15c608e9",
   "metadata": {},
   "outputs": [],
   "source": [
    "#iloc[]的選取\n",
    "df1.iloc[0]"
   ]
  },
  {
   "cell_type": "code",
   "execution_count": null,
   "id": "b57d1cf6",
   "metadata": {},
   "outputs": [],
   "source": [
    "df1.iloc[[0,24]]"
   ]
  },
  {
   "cell_type": "code",
   "execution_count": null,
   "id": "7901571e",
   "metadata": {},
   "outputs": [],
   "source": [
    "df1.iloc[:5]"
   ]
  },
  {
   "cell_type": "code",
   "execution_count": null,
   "id": "a923c286",
   "metadata": {},
   "outputs": [],
   "source": [
    "#iloc[列,欄],先選列,再選欄\n",
    "df1.iloc[:5,[0,1,2]]"
   ]
  },
  {
   "cell_type": "code",
   "execution_count": null,
   "id": "ad8070ba",
   "metadata": {},
   "outputs": [],
   "source": [
    "#iloc[列,欄],先選列,再選欄\n",
    "df1.iloc[:5,:3]"
   ]
  }
 ],
 "metadata": {
  "kernelspec": {
   "display_name": "myenv",
   "language": "python",
   "name": "python3"
  },
  "language_info": {
   "codemirror_mode": {
    "name": "ipython",
    "version": 3
   },
   "file_extension": ".py",
   "mimetype": "text/x-python",
   "name": "python",
   "nbconvert_exporter": "python",
   "pygments_lexer": "ipython3",
   "version": "3.10.16"
  }
 },
 "nbformat": 4,
 "nbformat_minor": 5
}
