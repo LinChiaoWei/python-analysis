{
 "cells": [
  {
   "cell_type": "markdown",
   "id": "1817d9df",
   "metadata": {},
   "source": [
    "### DataFrame,使用元素值的過濾\n",
    "- 使用比較運算子"
   ]
  },
  {
   "cell_type": "code",
   "execution_count": null,
   "id": "8946d3f7",
   "metadata": {},
   "outputs": [],
   "source": [
    "import numpy as np\n",
    "import pandas as pd\n",
    "\n",
    "df1 = pd.DataFrame(np.arange(16).reshape((4, 4)),\n",
    "                   index=['台北','台中','台南', '高雄'],\n",
    "                   columns=['one', 'two', 'three', 'four'])\n",
    "df1"
   ]
  },
  {
   "cell_type": "code",
   "execution_count": null,
   "id": "942b5756",
   "metadata": {},
   "outputs": [],
   "source": [
    "#如果值是bool,簡稱為mask\n",
    "mask = df1 >= 6\n",
    "mask"
   ]
  },
  {
   "cell_type": "code",
   "execution_count": null,
   "id": "17de6b64",
   "metadata": {},
   "outputs": [],
   "source": [
    "df1[mask]"
   ]
  },
  {
   "cell_type": "code",
   "execution_count": null,
   "id": "817d537d",
   "metadata": {},
   "outputs": [],
   "source": [
    "df1[df1>=6]"
   ]
  },
  {
   "cell_type": "code",
   "execution_count": null,
   "id": "6b951f48",
   "metadata": {},
   "outputs": [],
   "source": [
    "import numpy as np\n",
    "import pandas as pd\n",
    "from pandas import Series,DataFrame\n",
    "\n",
    "np.random.seed(42)\n",
    "scores = np.random.randint(50, 101,(50,5))\n",
    "df1:DataFrame = pd.DataFrame(scores,\n",
    "             index=[f'學號{i}' for i in range(1,51)],\n",
    "             columns=[\"國文\",\"英文\",\"數學\",\"歷史\",\"生物\"])\n",
    "df1"
   ]
  },
  {
   "cell_type": "code",
   "execution_count": null,
   "id": "86042dd5",
   "metadata": {},
   "outputs": [],
   "source": [
    "chinese_true = df1['國文'] >= 60\n",
    "df1[chinese_true]"
   ]
  },
  {
   "cell_type": "code",
   "execution_count": null,
   "id": "93701b36",
   "metadata": {},
   "outputs": [],
   "source": [
    "chinese_true = df1['國文'] >= 60\n",
    "english_true = df1['英文'] >= 60\n",
    "df1[chinese_true & english_true]"
   ]
  }
 ],
 "metadata": {
  "kernelspec": {
   "display_name": "myenv",
   "language": "python",
   "name": "python3"
  },
  "language_info": {
   "codemirror_mode": {
    "name": "ipython",
    "version": 3
   },
   "file_extension": ".py",
   "mimetype": "text/x-python",
   "name": "python",
   "nbconvert_exporter": "python",
   "pygments_lexer": "ipython3",
   "version": "3.10.16"
  }
 },
 "nbformat": 4,
 "nbformat_minor": 5
}
