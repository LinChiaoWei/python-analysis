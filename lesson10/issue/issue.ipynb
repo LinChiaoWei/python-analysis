{
 "cells": [
  {
   "cell_type": "code",
   "execution_count": null,
   "id": "dd6483d8",
   "metadata": {},
   "outputs": [],
   "source": [
    "import csv\n",
    "with open('pm2.5.csv',encoding='utf-8',newline='') as csv_file:\n",
    "    reader = csv.DictReader(csv_file)\n",
    "    # pm = list(reader)\n",
    "    for row in reader:\n",
    "        # 讀取欄位名稱為 'Name' 的資料\n",
    "        print(row['pm2.5'])\n",
    "   \n"
   ]
  },
  {
   "cell_type": "code",
   "execution_count": null,
   "id": "5b02e094",
   "metadata": {},
   "outputs": [
    {
     "ename": "IndentationError",
     "evalue": "expected an indented block after 'for' statement on line 5 (1950993795.py, line 8)",
     "output_type": "error",
     "traceback": [
      "\u001b[0;36m  Cell \u001b[0;32mIn[18], line 8\u001b[0;36m\u001b[0m\n\u001b[0;31m    bad_air = list(filter(lambda n:n['pm2.5'] >= 10,reader))\u001b[0m\n\u001b[0m    ^\u001b[0m\n\u001b[0;31mIndentationError\u001b[0m\u001b[0;31m:\u001b[0m expected an indented block after 'for' statement on line 5\n"
     ]
    }
   ],
   "source": [
    "high_chinese = list(filter(lambda n:n[\"chinese\"] >= 90,students))\n",
    "    bad_air = list(filter(lambda n:n['pm2.5'] >= 10,reader))\n",
    "   "
   ]
  },
  {
   "cell_type": "code",
   "execution_count": null,
   "id": "bf395e30",
   "metadata": {},
   "outputs": [],
   "source": [
    "high_chinese = list(filter(lambda n:n[\"chinese\"] >= 90,students))"
   ]
  },
  {
   "cell_type": "code",
   "execution_count": 22,
   "id": "bf805020",
   "metadata": {},
   "outputs": [
    {
     "name": "stdout",
     "output_type": "stream",
     "text": [
      "    sitename county  aqi pollutant status  so2    co    o3  o3_8hr  pm10  ...  \\\n",
      "0     屏東(枋山)    屏東縣   61     臭氧八小時     普通  0.0  0.13  40.1    58.1   9.0  ...   \n",
      "1     宜蘭（頭城）    宜蘭縣   33       NaN     良好  0.1  0.16  31.4    36.7   5.0  ...   \n",
      "2     新北(樹林)    新北市   25       NaN     良好  0.3  0.35  25.8    21.0   4.0  ...   \n",
      "4     臺南（麻豆）    臺南市   71      懸浮微粒     普通  1.4  0.32  19.5    32.7  46.0  ...   \n",
      "5     高雄（湖內）    高雄市   75      懸浮微粒     普通  1.4  0.29  14.9    36.9  30.0  ...   \n",
      "..       ...    ...  ...       ...    ...  ...   ...   ...     ...   ...  ...   \n",
      "995       頭份    苗栗縣   31       NaN     良好  1.3  0.19  34.4    33.2  13.0  ...   \n",
      "996       新竹    新竹市   31       NaN     良好  1.2  0.20  34.7    33.4   5.0  ...   \n",
      "997       竹東    新竹縣   33       NaN     良好  0.6  0.14  38.3    36.9   2.0  ...   \n",
      "998       湖口    新竹縣   31       NaN     良好  1.5  0.17  34.5    34.8   6.0  ...   \n",
      "999       龍潭    桃園市   29       NaN     良好  0.7  0.21  30.6    31.2   0.0  ...   \n",
      "\n",
      "     winddirec  datacreationdate  unit  co_8hr pm2.5_avg pm10_avg so2_avg  \\\n",
      "0           88  2024-11-21 21:00   NaN     0.2      14.0     30.0     0.0   \n",
      "1          278  2024-11-21 21:00   NaN     0.1       2.6      6.0     0.0   \n",
      "2          148  2024-11-21 21:00   NaN     0.3       2.4      7.0     0.0   \n",
      "4          356  2024-11-21 21:00   NaN     0.2      12.8     71.0     0.0   \n",
      "5          308  2024-11-21 21:00   NaN     0.2      14.9     75.0     1.0   \n",
      "..         ...               ...   ...     ...       ...      ...     ...   \n",
      "995         32  2024-11-21 15:00   NaN     0.2       4.1      7.0     1.0   \n",
      "996         36  2024-11-21 15:00   NaN     0.2       1.4      5.0     1.0   \n",
      "997         35  2024-11-21 15:00   NaN     0.1       1.6      2.0     0.0   \n",
      "998         47  2024-11-21 15:00   NaN     0.1       1.9      7.0     1.0   \n",
      "999         56  2024-11-21 15:00   NaN     0.2       2.8      6.0     0.0   \n",
      "\n",
      "      longitude   latitude  siteid  \n",
      "0    120.651472  22.260899     313  \n",
      "1    121.824639  24.853667     312  \n",
      "2    121.383528  24.949028     311  \n",
      "4    120.245831  23.179047     203  \n",
      "5    120.245350  22.879856     202  \n",
      "..          ...        ...     ...  \n",
      "995  120.898693  24.696907      25  \n",
      "996  120.972368  24.805636      24  \n",
      "997  121.088955  24.740914      23  \n",
      "998  121.038869  24.900097      22  \n",
      "999  121.216458  24.864000      21  \n",
      "\n",
      "[649 rows x 25 columns]\n"
     ]
    }
   ],
   "source": [
    "import pandas as pd\n",
    "\n",
    "# 讀取CSV檔案，請將'filename.csv'改成你的檔案名稱\n",
    "df = pd.read_csv('pm2.5.csv')\n",
    "\n",
    "# 將pm25欄位轉成數字型態（若有非數字會變成NaN）\n",
    "df['pm2.5'] = pd.to_numeric(df['pm2.5'], errors='coerce')\n",
    "\n",
    "# 選出pm25大於10的資料\n",
    "df_filtered = df[df['pm2.5'] < 10]\n",
    "\n",
    "# 顯示結果\n",
    "print(df_filtered)\n",
    "\n"
   ]
  }
 ],
 "metadata": {
  "kernelspec": {
   "display_name": "base",
   "language": "python",
   "name": "python3"
  },
  "language_info": {
   "codemirror_mode": {
    "name": "ipython",
    "version": 3
   },
   "file_extension": ".py",
   "mimetype": "text/x-python",
   "name": "python",
   "nbconvert_exporter": "python",
   "pygments_lexer": "ipython3",
   "version": "3.12.7"
  }
 },
 "nbformat": 4,
 "nbformat_minor": 5
}
