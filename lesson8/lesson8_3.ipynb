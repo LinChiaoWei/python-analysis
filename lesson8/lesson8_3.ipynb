{
 "cells": [
  {
   "cell_type": "markdown",
   "id": "5208fcbe",
   "metadata": {},
   "source": [
    "### 組合多筆資料成為有順序的資料[list]"
   ]
  },
  {
   "cell_type": "code",
   "execution_count": null,
   "id": "8f0e9ced",
   "metadata": {},
   "outputs": [
    {
     "data": {
      "text/plain": [
       "list"
      ]
     },
     "execution_count": 1,
     "metadata": {},
     "output_type": "execute_result"
    }
   ],
   "source": [
    "num:list = [1, 2, 3, 4, 'a', 'b', 'c']\n",
    "type(num)"
   ]
  },
  {
   "cell_type": "markdown",
   "id": "fea2dd00",
   "metadata": {},
   "source": [
    "### list內的元素,一般都是相同的資料類型"
   ]
  },
  {
   "cell_type": "code",
   "execution_count": 16,
   "id": "63c92038",
   "metadata": {},
   "outputs": [
    {
     "data": {
      "text/plain": [
       "[10, 20, 30, 40, 50, 60, 70, 80, 90, 100]"
      ]
     },
     "execution_count": 16,
     "metadata": {},
     "output_type": "execute_result"
    }
   ],
   "source": [
    "nums:list[int] = [10, 20, 30, 40, 50, 60, 70, 80, 90, 100]\n",
    "nums"
   ]
  },
  {
   "cell_type": "code",
   "execution_count": 7,
   "id": "53b9b47a",
   "metadata": {},
   "outputs": [
    {
     "data": {
      "text/plain": [
       "100"
      ]
     },
     "execution_count": 7,
     "metadata": {},
     "output_type": "execute_result"
    }
   ],
   "source": [
    "#取出元素\n",
    "nums[0]\n",
    "nums[1]\n",
    "nums[9]\n",
    "nums[-1]"
   ]
  },
  {
   "cell_type": "code",
   "execution_count": 15,
   "id": "f2f96082",
   "metadata": {},
   "outputs": [],
   "source": [
    "#改變元素\n",
    "#nums[-1] = 110\n",
    "#nums[-1]"
   ]
  },
  {
   "cell_type": "code",
   "execution_count": null,
   "id": "3ba80668",
   "metadata": {},
   "outputs": [
    {
     "data": {
      "text/plain": [
       "[60, 70, 80, 90, 100]"
      ]
     },
     "execution_count": 18,
     "metadata": {},
     "output_type": "execute_result"
    }
   ],
   "source": [
    "#切割元素(slice)\n",
    "nums[0:5]# 取0.1.2.3.4\n",
    "nums[3:5]# 取3.4\n",
    "nums[:5]#前五個\n",
    "nums[-5:]#最後五個"
   ]
  },
  {
   "cell_type": "code",
   "execution_count": 24,
   "id": "8a975b75",
   "metadata": {},
   "outputs": [
    {
     "data": {
      "text/plain": [
       "[40, 50]"
      ]
     },
     "execution_count": 24,
     "metadata": {},
     "output_type": "execute_result"
    }
   ],
   "source": [
    "nums[3:5]"
   ]
  },
  {
   "cell_type": "code",
   "execution_count": 23,
   "id": "60c44df9",
   "metadata": {},
   "outputs": [
    {
     "name": "stdout",
     "output_type": "stream",
     "text": [
      "10 20 30 40 50 60 70 80 90 100 "
     ]
    }
   ],
   "source": [
    "#list是串列資料,代表可以iterable\n",
    "for i in nums:\n",
    "    print(i, end=' ')"
   ]
  }
 ],
 "metadata": {
  "kernelspec": {
   "display_name": "base",
   "language": "python",
   "name": "python3"
  },
  "language_info": {
   "codemirror_mode": {
    "name": "ipython",
    "version": 3
   },
   "file_extension": ".py",
   "mimetype": "text/x-python",
   "name": "python",
   "nbconvert_exporter": "python",
   "pygments_lexer": "ipython3",
   "version": "3.12.7"
  }
 },
 "nbformat": 4,
 "nbformat_minor": 5
}
