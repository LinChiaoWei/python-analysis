{
 "cells": [
  {
   "cell_type": "markdown",
   "id": "2e86190a",
   "metadata": {},
   "source": [
    "### 建立自訂function的目的\n",
    "- 結構化程式\n",
    "- 減少main()的程式碼\n",
    "- 減小程式的複雜度\n",
    "- 重複呼叫"
   ]
  },
  {
   "cell_type": "markdown",
   "id": "f5be90e4",
   "metadata": {},
   "source": [
    "### 看懂說明書\n",
    "- 如何呼叫function\n"
   ]
  },
  {
   "cell_type": "code",
   "execution_count": null,
   "id": "b9ea9ff2",
   "metadata": {},
   "outputs": [],
   "source": [
    "def menu(wine:str, entree:str, dessert:str):\n",
    "    print(f\"前菜:{wine}\")\n",
    "    print(f\"主菜:{entree}\")\n",
    "    print(f\"甜點:{dessert}\")\n",
    "\n"
   ]
  },
  {
   "cell_type": "markdown",
   "id": "bf9e300c",
   "metadata": {},
   "source": [
    "### 引數值的呼叫(依照參數的順序)"
   ]
  },
  {
   "cell_type": "code",
   "execution_count": 11,
   "id": "66cc8d2e",
   "metadata": {},
   "outputs": [
    {
     "name": "stdout",
     "output_type": "stream",
     "text": [
      "前菜:白酒\n",
      "主菜:雞排\n",
      "甜點:蛋糕\n"
     ]
    }
   ],
   "source": [
    "menu('白酒','雞排','蛋糕')"
   ]
  },
  {
   "cell_type": "markdown",
   "id": "ee0a40d5",
   "metadata": {},
   "source": [
    "### 引數名稱的呼叫(可以不依照順序)"
   ]
  },
  {
   "cell_type": "code",
   "execution_count": 14,
   "id": "675127df",
   "metadata": {},
   "outputs": [
    {
     "name": "stdout",
     "output_type": "stream",
     "text": [
      "前菜:白酒\n",
      "主菜:雞排\n",
      "甜點:蛋糕\n"
     ]
    }
   ],
   "source": [
    "menu(wine='白酒',entree='雞排',dessert='蛋糕')"
   ]
  },
  {
   "cell_type": "code",
   "execution_count": 16,
   "id": "fc2a63d4",
   "metadata": {},
   "outputs": [
    {
     "name": "stdout",
     "output_type": "stream",
     "text": [
      "前菜:白酒\n",
      "主菜:雞排\n",
      "甜點:蛋糕\n"
     ]
    }
   ],
   "source": [
    "menu(wine='白酒',dessert='蛋糕',entree='雞排')"
   ]
  },
  {
   "cell_type": "markdown",
   "id": "da9adb8a",
   "metadata": {},
   "source": [
    "### 混合呼叫\n",
    "- 前面要引數值的呼叫\n",
    "- 後面要引數名稱的呼叫\n",
    "- 引數名稱呼叫後,就全部都要使用引數名稱"
   ]
  },
  {
   "cell_type": "code",
   "execution_count": 17,
   "id": "51a81103",
   "metadata": {},
   "outputs": [
    {
     "name": "stdout",
     "output_type": "stream",
     "text": [
      "前菜:白酒\n",
      "主菜:雞排\n",
      "甜點:蛋糕\n",
      "前菜:白酒\n",
      "主菜:雞排\n",
      "甜點:蛋糕\n"
     ]
    }
   ],
   "source": [
    "menu('白酒',entree='雞排',dessert='蛋糕')\n",
    "menu('白酒',dessert='蛋糕',entree='雞排')"
   ]
  },
  {
   "cell_type": "markdown",
   "id": "01828198",
   "metadata": {},
   "source": [
    "### 參數有預設值\n",
    "- 有預設值的參數,一定要放在最後面\n",
    "- 呼叫的方式變多了"
   ]
  },
  {
   "cell_type": "code",
   "execution_count": 19,
   "id": "8b5b92c3",
   "metadata": {},
   "outputs": [],
   "source": [
    "def menu(wine:str, entree:str, dessert:str='奶昔'):\n",
    "    print(f\"前菜:{wine}\")\n",
    "    print(f\"主菜:{entree}\")\n",
    "    print(f\"甜點:{dessert}\")"
   ]
  },
  {
   "cell_type": "code",
   "execution_count": 20,
   "id": "2a261029",
   "metadata": {},
   "outputs": [
    {
     "name": "stdout",
     "output_type": "stream",
     "text": [
      "前菜:白酒\n",
      "主菜:雞排\n",
      "甜點:奶昔\n"
     ]
    }
   ],
   "source": [
    "menu('白酒',entree='雞排')"
   ]
  },
  {
   "cell_type": "code",
   "execution_count": 22,
   "id": "a3ef9c74",
   "metadata": {},
   "outputs": [
    {
     "name": "stdout",
     "output_type": "stream",
     "text": [
      "前菜:白酒\n",
      "主菜:雞排\n",
      "甜點:蛋糕\n"
     ]
    }
   ],
   "source": [
    "menu('白酒',dessert='蛋糕',entree='雞排')"
   ]
  },
  {
   "cell_type": "code",
   "execution_count": 23,
   "id": "db4a65ec",
   "metadata": {},
   "outputs": [
    {
     "name": "stdout",
     "output_type": "stream",
     "text": [
      "(1, 2, 3, 'a', 'b', 'c')\n"
     ]
    }
   ],
   "source": [
    "def print_args(*args): #variable-length(沒有限定數量)引數值呼叫/*args=tuple()\n",
    "    print(args)\n",
    "\n",
    "print_args(1,2,3,'a','b','c')"
   ]
  },
  {
   "cell_type": "code",
   "execution_count": null,
   "id": "67351b30",
   "metadata": {},
   "outputs": [
    {
     "name": "stdout",
     "output_type": "stream",
     "text": [
      "{'one': 1, 'two': 2, 'three': 3, 'foue': 4}\n"
     ]
    }
   ],
   "source": [
    "def print_kwargs(**kwargs): #kwargs=引數名稱呼叫->沒有限定數量\n",
    "    print(kwargs) #kwargs=\n",
    "\n",
    "print_kwargs(one=1, two=2, three=3, four=4)"
   ]
  },
  {
   "cell_type": "code",
   "execution_count": 29,
   "id": "58470ba4",
   "metadata": {},
   "outputs": [
    {
     "name": "stdout",
     "output_type": "stream",
     "text": [
      "(1, 2, 3, 'a', 'b', 'c')\n",
      "{'one': 1, 'two': 2, 'three': 3, 'four': 4}\n"
     ]
    }
   ],
   "source": [
    "def print_all(*args,**kwargs):\n",
    "    print(args)\n",
    "    print(kwargs)\n",
    "\n",
    "print_all(1, 2, 3, 'a', 'b', 'c', one=1, two=2, three=3, four=4 )"
   ]
  },
  {
   "cell_type": "code",
   "execution_count": 28,
   "id": "5a5e8f97",
   "metadata": {},
   "outputs": [
    {
     "name": "stdout",
     "output_type": "stream",
     "text": [
      "{'one': 1, 'two': 2, 'three': 3, 'four': 4}\n",
      "(1, 2, 3, 'a', 'b', 'c')\n",
      "{'one': 1, 'two': 2, 'three': 3, 'four': 4}\n"
     ]
    }
   ],
   "source": [
    "\n",
    "### 老師Ver.\n",
    "\n",
    "def print_kwargs(**kwargs):\n",
    "   print(kwargs)\n",
    "\n",
    "print_kwargs(one=1, two=2, three=3, four=4)\n",
    "\n",
    "\n",
    "\n",
    "def print_all(*args,**kwargs):\n",
    "    print(args)\n",
    "    print(kwargs)\n",
    "\n",
    "print_all(1, 2, 3, 'a', 'b', 'c',one=1,two=2,three=3, four=4)"
   ]
  },
  {
   "cell_type": "markdown",
   "id": "b1684b60",
   "metadata": {},
   "source": [
    "### print(*objects, sep=' ', end='\\n', file=None, flush=False)"
   ]
  },
  {
   "cell_type": "code",
   "execution_count": null,
   "id": "1f59c01f",
   "metadata": {},
   "outputs": [
    {
     "name": "stdout",
     "output_type": "stream",
     "text": [
      "1 2 3 4 5\n",
      "\n",
      "1-2-3-4-5\n",
      "1-2-3-4-5.\n"
     ]
    }
   ],
   "source": [
    "print(1,2,3,4,5)\n",
    "print() #換行\n",
    "print(1,2,3,4,5,sep='-') #數字間多-\n",
    "print(1,2,3,4,5,end='.\\n',sep='-') #句尾加."
   ]
  },
  {
   "cell_type": "markdown",
   "id": "69d89523",
   "metadata": {},
   "source": [
    "### min(iterable, *, key=None) *=>後面一定要用引數名稱呼叫,iterable=重複呼叫\n",
    "### min(iterable, *, default, key=None)\n",
    "### min(arg1, arg2, *args, key=None)\n",
    "\n",
    "### python三種資料結構:串列資料都可以重複使用\n",
    "- list 串列資料 [1,2,3]\n",
    "- dictuinary map資料 {'one':1,'two':2,'three'=3}\n",
    "- set 串列資料 {1,2,3}\n",
    "- tuple 串列資料 (1,2,3) ->暫時的"
   ]
  },
  {
   "cell_type": "code",
   "execution_count": 35,
   "id": "0a0e77cd",
   "metadata": {},
   "outputs": [
    {
     "data": {
      "text/plain": [
       "1"
      ]
     },
     "execution_count": 35,
     "metadata": {},
     "output_type": "execute_result"
    }
   ],
   "source": [
    "min(1,2,3,4,5)\n",
    "\n"
   ]
  },
  {
   "cell_type": "markdown",
   "id": "837b52a5",
   "metadata": {},
   "source": [
    "### 結論:看懂說明書且善用AI產生範例"
   ]
  }
 ],
 "metadata": {
  "kernelspec": {
   "display_name": "base",
   "language": "python",
   "name": "python3"
  },
  "language_info": {
   "codemirror_mode": {
    "name": "ipython",
    "version": 3
   },
   "file_extension": ".py",
   "mimetype": "text/x-python",
   "name": "python",
   "nbconvert_exporter": "python",
   "pygments_lexer": "ipython3",
   "version": "3.12.7"
  }
 },
 "nbformat": 4,
 "nbformat_minor": 5
}
