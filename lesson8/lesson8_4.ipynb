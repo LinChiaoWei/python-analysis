{
 "cells": [
  {
   "cell_type": "markdown",
   "id": "7f1b7465",
   "metadata": {},
   "source": [
    "### function的變數,可以要求是一個function"
   ]
  },
  {
   "cell_type": "code",
   "execution_count": 3,
   "id": "fca7bd9b",
   "metadata": {},
   "outputs": [
    {
     "data": {
      "text/plain": [
       "[1, 3, 5, 7, 9]"
      ]
     },
     "execution_count": 3,
     "metadata": {},
     "output_type": "execute_result"
    }
   ],
   "source": [
    "numbers:list[int] = [1, 2, 3, 4, 5, 6, 7, 8, 9, 10,]\n",
    "\n",
    "def is_odd(n):\n",
    "    if n % 2 == 1:\n",
    "        return True\n",
    "    else:\n",
    "        return False\n",
    "\n",
    "#取出奇數值\n",
    "\n",
    "list(filter(is_odd, numbers))"
   ]
  },
  {
   "cell_type": "code",
   "execution_count": 5,
   "id": "f265d2a8",
   "metadata": {},
   "outputs": [
    {
     "data": {
      "text/plain": [
       "[1, 3, 5, 7, 9]"
      ]
     },
     "execution_count": 5,
     "metadata": {},
     "output_type": "execute_result"
    }
   ],
   "source": [
    "numbers:list[int] = [1, 2, 3, 4, 5, 6, 7, 8, 9, 10,]\n",
    "\n",
    "def is_odd(n):\n",
    "    return n % 2 == 1\n",
    "      \n",
    "\n",
    "#取出奇數值\n",
    "\n",
    "list(filter(is_odd, numbers))"
   ]
  },
  {
   "cell_type": "markdown",
   "id": "5eeb0735",
   "metadata": {},
   "source": [
    "### 暱名function -> lambda n:(n%2==1)\n",
    "### lambda\n",
    "- 只可以一行,會自動returm"
   ]
  },
  {
   "cell_type": "code",
   "execution_count": 7,
   "id": "94ab3b62",
   "metadata": {},
   "outputs": [
    {
     "data": {
      "text/plain": [
       "[1, 3, 5, 7, 9]"
      ]
     },
     "execution_count": 7,
     "metadata": {},
     "output_type": "execute_result"
    }
   ],
   "source": [
    "numbers:list[int] = [1, 2, 3, 4, 5, 6, 7, 8, 9, 10,]\n",
    "      \n",
    "\n",
    "#取出奇數值\n",
    "\n",
    "list(filter(lambda n:n % 2 == 1,numbers))"
   ]
  },
  {
   "cell_type": "markdown",
   "id": "e7c55eb7",
   "metadata": {},
   "source": [
    "### 議題"
   ]
  },
  {
   "cell_type": "code",
   "execution_count": 15,
   "id": "be068c18",
   "metadata": {},
   "outputs": [
    {
     "name": "stdout",
     "output_type": "stream",
     "text": [
      "小明\n",
      "國文:85\n",
      "小華\n",
      "國文:90\n",
      "小美\n",
      "國文:79\n",
      "小強\n",
      "國文:88\n",
      "小麗\n",
      "國文:95\n"
     ]
    },
    {
     "ename": "TypeError",
     "evalue": "'>=' not supported between instances of 'dict' and 'int'",
     "output_type": "error",
     "traceback": [
      "\u001b[0;31m---------------------------------------------------------------------------\u001b[0m",
      "\u001b[0;31mTypeError\u001b[0m                                 Traceback (most recent call last)",
      "Cell \u001b[0;32mIn[15], line 21\u001b[0m\n\u001b[1;32m     18\u001b[0m         \u001b[38;5;28;01melse\u001b[39;00m:\n\u001b[1;32m     19\u001b[0m             \u001b[38;5;28;01mreturn\u001b[39;00m \u001b[38;5;28;01mFalse\u001b[39;00m\n\u001b[0;32m---> 21\u001b[0m \u001b[38;5;28mlist\u001b[39m(\u001b[38;5;28mfilter\u001b[39m(chinese_good, students))\n",
      "Cell \u001b[0;32mIn[15], line 16\u001b[0m, in \u001b[0;36mchinese_good\u001b[0;34m(n)\u001b[0m\n\u001b[1;32m     15\u001b[0m \u001b[38;5;28;01mdef\u001b[39;00m \u001b[38;5;21mchinese_good\u001b[39m(n): \n\u001b[0;32m---> 16\u001b[0m     \u001b[38;5;28;01mif\u001b[39;00m n \u001b[38;5;241m>\u001b[39m\u001b[38;5;241m=\u001b[39m \u001b[38;5;241m90\u001b[39m:\n\u001b[1;32m     17\u001b[0m         \u001b[38;5;28;01mreturn\u001b[39;00m \u001b[38;5;28;01mTrue\u001b[39;00m\n\u001b[1;32m     18\u001b[0m     \u001b[38;5;28;01melse\u001b[39;00m:\n",
      "\u001b[0;31mTypeError\u001b[0m: '>=' not supported between instances of 'dict' and 'int'"
     ]
    }
   ],
   "source": [
    "students:list[dict] = [\n",
    "    {\"name\": \"小明\", \"chinese\": 85, \"english\": 92, \"math\": 78},\n",
    "    {\"name\": \"小華\", \"chinese\": 90, \"english\": 88, \"math\": 95},\n",
    "    {\"name\": \"小美\", \"chinese\": 79, \"english\": 85, \"math\": 90},\n",
    "    {\"name\": \"小強\", \"chinese\": 88, \"english\": 92, \"math\": 87},\n",
    "    {\"name\": \"小麗\", \"chinese\": 95, \"english\": 89, \"math\": 93}\n",
    "]\n",
    "\n",
    "#取國文90分以上\n",
    "\n",
    "\n",
    "for student in students:\n",
    "    print(student['name'])\n",
    "    print(f'國文:{student[\"chinese\"]}')\n",
    "    def chinese_good(n): \n",
    "        if n >= 90:\n",
    "            return True\n",
    "        else:\n",
    "            return False\n",
    "    \n",
    "list(filter(chinese_good, students))\n",
    "    \n",
    "    \n"
   ]
  },
  {
   "cell_type": "code",
   "execution_count": 16,
   "id": "caf79bc5",
   "metadata": {},
   "outputs": [
    {
     "ename": "TypeError",
     "evalue": "'>=' not supported between instances of 'dict' and 'int'",
     "output_type": "error",
     "traceback": [
      "\u001b[0;31m---------------------------------------------------------------------------\u001b[0m",
      "\u001b[0;31mTypeError\u001b[0m                                 Traceback (most recent call last)",
      "Cell \u001b[0;32mIn[16], line 14\u001b[0m\n\u001b[1;32m      1\u001b[0m students:\u001b[38;5;28mlist\u001b[39m[\u001b[38;5;28mdict\u001b[39m] \u001b[38;5;241m=\u001b[39m [\n\u001b[1;32m      2\u001b[0m     {\u001b[38;5;124m\"\u001b[39m\u001b[38;5;124mname\u001b[39m\u001b[38;5;124m\"\u001b[39m: \u001b[38;5;124m\"\u001b[39m\u001b[38;5;124m小明\u001b[39m\u001b[38;5;124m\"\u001b[39m, \u001b[38;5;124m\"\u001b[39m\u001b[38;5;124mchinese\u001b[39m\u001b[38;5;124m\"\u001b[39m: \u001b[38;5;241m85\u001b[39m, \u001b[38;5;124m\"\u001b[39m\u001b[38;5;124menglish\u001b[39m\u001b[38;5;124m\"\u001b[39m: \u001b[38;5;241m92\u001b[39m, \u001b[38;5;124m\"\u001b[39m\u001b[38;5;124mmath\u001b[39m\u001b[38;5;124m\"\u001b[39m: \u001b[38;5;241m78\u001b[39m},\n\u001b[1;32m      3\u001b[0m     {\u001b[38;5;124m\"\u001b[39m\u001b[38;5;124mname\u001b[39m\u001b[38;5;124m\"\u001b[39m: \u001b[38;5;124m\"\u001b[39m\u001b[38;5;124m小華\u001b[39m\u001b[38;5;124m\"\u001b[39m, \u001b[38;5;124m\"\u001b[39m\u001b[38;5;124mchinese\u001b[39m\u001b[38;5;124m\"\u001b[39m: \u001b[38;5;241m90\u001b[39m, \u001b[38;5;124m\"\u001b[39m\u001b[38;5;124menglish\u001b[39m\u001b[38;5;124m\"\u001b[39m: \u001b[38;5;241m88\u001b[39m, \u001b[38;5;124m\"\u001b[39m\u001b[38;5;124mmath\u001b[39m\u001b[38;5;124m\"\u001b[39m: \u001b[38;5;241m95\u001b[39m},\n\u001b[0;32m   (...)\u001b[0m\n\u001b[1;32m      6\u001b[0m     {\u001b[38;5;124m\"\u001b[39m\u001b[38;5;124mname\u001b[39m\u001b[38;5;124m\"\u001b[39m: \u001b[38;5;124m\"\u001b[39m\u001b[38;5;124m小麗\u001b[39m\u001b[38;5;124m\"\u001b[39m, \u001b[38;5;124m\"\u001b[39m\u001b[38;5;124mchinese\u001b[39m\u001b[38;5;124m\"\u001b[39m: \u001b[38;5;241m95\u001b[39m, \u001b[38;5;124m\"\u001b[39m\u001b[38;5;124menglish\u001b[39m\u001b[38;5;124m\"\u001b[39m: \u001b[38;5;241m89\u001b[39m, \u001b[38;5;124m\"\u001b[39m\u001b[38;5;124mmath\u001b[39m\u001b[38;5;124m\"\u001b[39m: \u001b[38;5;241m93\u001b[39m}\n\u001b[1;32m      7\u001b[0m ]\n\u001b[1;32m      9\u001b[0m \u001b[38;5;66;03m#取國文90分以上\u001b[39;00m\n\u001b[0;32m---> 14\u001b[0m \u001b[38;5;28mlist\u001b[39m(\u001b[38;5;28mfilter\u001b[39m(\u001b[38;5;28;01mlambda\u001b[39;00m n:n\u001b[38;5;241m>\u001b[39m\u001b[38;5;241m=\u001b[39m\u001b[38;5;241m90\u001b[39m, students))\n",
      "Cell \u001b[0;32mIn[16], line 14\u001b[0m, in \u001b[0;36m<lambda>\u001b[0;34m(n)\u001b[0m\n\u001b[1;32m      1\u001b[0m students:\u001b[38;5;28mlist\u001b[39m[\u001b[38;5;28mdict\u001b[39m] \u001b[38;5;241m=\u001b[39m [\n\u001b[1;32m      2\u001b[0m     {\u001b[38;5;124m\"\u001b[39m\u001b[38;5;124mname\u001b[39m\u001b[38;5;124m\"\u001b[39m: \u001b[38;5;124m\"\u001b[39m\u001b[38;5;124m小明\u001b[39m\u001b[38;5;124m\"\u001b[39m, \u001b[38;5;124m\"\u001b[39m\u001b[38;5;124mchinese\u001b[39m\u001b[38;5;124m\"\u001b[39m: \u001b[38;5;241m85\u001b[39m, \u001b[38;5;124m\"\u001b[39m\u001b[38;5;124menglish\u001b[39m\u001b[38;5;124m\"\u001b[39m: \u001b[38;5;241m92\u001b[39m, \u001b[38;5;124m\"\u001b[39m\u001b[38;5;124mmath\u001b[39m\u001b[38;5;124m\"\u001b[39m: \u001b[38;5;241m78\u001b[39m},\n\u001b[1;32m      3\u001b[0m     {\u001b[38;5;124m\"\u001b[39m\u001b[38;5;124mname\u001b[39m\u001b[38;5;124m\"\u001b[39m: \u001b[38;5;124m\"\u001b[39m\u001b[38;5;124m小華\u001b[39m\u001b[38;5;124m\"\u001b[39m, \u001b[38;5;124m\"\u001b[39m\u001b[38;5;124mchinese\u001b[39m\u001b[38;5;124m\"\u001b[39m: \u001b[38;5;241m90\u001b[39m, \u001b[38;5;124m\"\u001b[39m\u001b[38;5;124menglish\u001b[39m\u001b[38;5;124m\"\u001b[39m: \u001b[38;5;241m88\u001b[39m, \u001b[38;5;124m\"\u001b[39m\u001b[38;5;124mmath\u001b[39m\u001b[38;5;124m\"\u001b[39m: \u001b[38;5;241m95\u001b[39m},\n\u001b[0;32m   (...)\u001b[0m\n\u001b[1;32m      6\u001b[0m     {\u001b[38;5;124m\"\u001b[39m\u001b[38;5;124mname\u001b[39m\u001b[38;5;124m\"\u001b[39m: \u001b[38;5;124m\"\u001b[39m\u001b[38;5;124m小麗\u001b[39m\u001b[38;5;124m\"\u001b[39m, \u001b[38;5;124m\"\u001b[39m\u001b[38;5;124mchinese\u001b[39m\u001b[38;5;124m\"\u001b[39m: \u001b[38;5;241m95\u001b[39m, \u001b[38;5;124m\"\u001b[39m\u001b[38;5;124menglish\u001b[39m\u001b[38;5;124m\"\u001b[39m: \u001b[38;5;241m89\u001b[39m, \u001b[38;5;124m\"\u001b[39m\u001b[38;5;124mmath\u001b[39m\u001b[38;5;124m\"\u001b[39m: \u001b[38;5;241m93\u001b[39m}\n\u001b[1;32m      7\u001b[0m ]\n\u001b[1;32m      9\u001b[0m \u001b[38;5;66;03m#取國文90分以上\u001b[39;00m\n\u001b[0;32m---> 14\u001b[0m \u001b[38;5;28mlist\u001b[39m(\u001b[38;5;28mfilter\u001b[39m(\u001b[38;5;28;01mlambda\u001b[39;00m n:n\u001b[38;5;241m>\u001b[39m\u001b[38;5;241m=\u001b[39m\u001b[38;5;241m90\u001b[39m, students))\n",
      "\u001b[0;31mTypeError\u001b[0m: '>=' not supported between instances of 'dict' and 'int'"
     ]
    }
   ],
   "source": [
    "students:list[dict] = [\n",
    "    {\"name\": \"小明\", \"chinese\": 85, \"english\": 92, \"math\": 78},\n",
    "    {\"name\": \"小華\", \"chinese\": 90, \"english\": 88, \"math\": 95},\n",
    "    {\"name\": \"小美\", \"chinese\": 79, \"english\": 85, \"math\": 90},\n",
    "    {\"name\": \"小強\", \"chinese\": 88, \"english\": 92, \"math\": 87},\n",
    "    {\"name\": \"小麗\", \"chinese\": 95, \"english\": 89, \"math\": 93}\n",
    "]\n",
    "\n",
    "#取國文90分以上\n",
    "\n",
    "\n",
    "\n",
    "    \n",
    "list(filter(lambda n:n>=90, students))"
   ]
  }
 ],
 "metadata": {
  "kernelspec": {
   "display_name": "base",
   "language": "python",
   "name": "python3"
  },
  "language_info": {
   "codemirror_mode": {
    "name": "ipython",
    "version": 3
   },
   "file_extension": ".py",
   "mimetype": "text/x-python",
   "name": "python",
   "nbconvert_exporter": "python",
   "pygments_lexer": "ipython3",
   "version": "3.12.7"
  }
 },
 "nbformat": 4,
 "nbformat_minor": 5
}
