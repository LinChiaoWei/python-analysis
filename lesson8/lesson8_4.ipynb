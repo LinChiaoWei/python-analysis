{
 "cells": [
  {
   "cell_type": "markdown",
   "id": "7f1b7465",
   "metadata": {},
   "source": [
    "### function的變數,可以要求是一個function"
   ]
  },
  {
   "cell_type": "code",
   "execution_count": 3,
   "id": "fca7bd9b",
   "metadata": {},
   "outputs": [
    {
     "data": {
      "text/plain": [
       "[1, 3, 5, 7, 9]"
      ]
     },
     "execution_count": 3,
     "metadata": {},
     "output_type": "execute_result"
    }
   ],
   "source": [
    "numbers:list[int] = [1, 2, 3, 4, 5, 6, 7, 8, 9, 10,]\n",
    "\n",
    "def is_odd(n):\n",
    "    if n % 2 == 1:\n",
    "        return True\n",
    "    else:\n",
    "        return False\n",
    "\n",
    "#取出奇數值\n",
    "\n",
    "list(filter(is_odd, numbers))"
   ]
  },
  {
   "cell_type": "code",
   "execution_count": 5,
   "id": "f265d2a8",
   "metadata": {},
   "outputs": [
    {
     "data": {
      "text/plain": [
       "[1, 3, 5, 7, 9]"
      ]
     },
     "execution_count": 5,
     "metadata": {},
     "output_type": "execute_result"
    }
   ],
   "source": [
    "numbers:list[int] = [1, 2, 3, 4, 5, 6, 7, 8, 9, 10,]\n",
    "\n",
    "def is_odd(n):\n",
    "    return n % 2 == 1\n",
    "      \n",
    "\n",
    "#取出奇數值\n",
    "\n",
    "list(filter(is_odd, numbers))"
   ]
  },
  {
   "cell_type": "markdown",
   "id": "5eeb0735",
   "metadata": {},
   "source": [
    "### 暱名function -> lambda n:(n%2==1)\n",
    "### lambda\n",
    "- 只可以一行,會自動returm"
   ]
  },
  {
   "cell_type": "code",
   "execution_count": 7,
   "id": "94ab3b62",
   "metadata": {},
   "outputs": [
    {
     "data": {
      "text/plain": [
       "[1, 3, 5, 7, 9]"
      ]
     },
     "execution_count": 7,
     "metadata": {},
     "output_type": "execute_result"
    }
   ],
   "source": [
    "numbers:list[int] = [1, 2, 3, 4, 5, 6, 7, 8, 9, 10,]\n",
    "      \n",
    "\n",
    "#取出奇數值\n",
    "\n",
    "list(filter(lambda n:n % 2 == 1,numbers))"
   ]
  },
  {
   "cell_type": "markdown",
   "id": "e7c55eb7",
   "metadata": {},
   "source": [
    "### 議題"
   ]
  },
  {
   "cell_type": "code",
   "execution_count": null,
   "id": "be068c18",
   "metadata": {},
   "outputs": [],
   "source": [
    "students:list[dict] = [\n",
    "    {\"name\": \"小明\", \"chinese\": 85, \"english\": 92, \"math\": 78},\n",
    "    {\"name\": \"小華\", \"chinese\": 90, \"english\": 88, \"math\": 95},\n",
    "    {\"name\": \"小美\", \"chinese\": 79, \"english\": 85, \"math\": 90},\n",
    "    {\"name\": \"小強\", \"chinese\": 88, \"english\": 92, \"math\": 87},\n",
    "    {\"name\": \"小麗\", \"chinese\": 95, \"english\": 89, \"math\": 93}\n",
    "]"
   ]
  }
 ],
 "metadata": {
  "kernelspec": {
   "display_name": "base",
   "language": "python",
   "name": "python3"
  },
  "language_info": {
   "codemirror_mode": {
    "name": "ipython",
    "version": 3
   },
   "file_extension": ".py",
   "mimetype": "text/x-python",
   "name": "python",
   "nbconvert_exporter": "python",
   "pygments_lexer": "ipython3",
   "version": "3.12.7"
  }
 },
 "nbformat": 4,
 "nbformat_minor": 5
}
