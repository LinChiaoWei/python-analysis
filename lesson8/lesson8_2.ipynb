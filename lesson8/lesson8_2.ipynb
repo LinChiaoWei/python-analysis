{
 "cells": [
  {
   "cell_type": "markdown",
   "id": "25a0408d",
   "metadata": {},
   "source": [
    "### python的資料結構"
   ]
  },
  {
   "cell_type": "code",
   "execution_count": 1,
   "id": "1f030c29",
   "metadata": {},
   "outputs": [],
   "source": [
    "name:str = \"林巧偉\" \n",
    "chinese:int = 96\n",
    "english:int = 85\n",
    "math:int = 95 #共4個變數,一組有關係的資料"
   ]
  },
  {
   "cell_type": "markdown",
   "id": "addca2ec",
   "metadata": {},
   "source": [
    "### 一組有關係的資料(dictionary)-map資料類型"
   ]
  },
  {
   "cell_type": "code",
   "execution_count": 12,
   "id": "ad83309a",
   "metadata": {},
   "outputs": [
    {
     "data": {
      "text/plain": [
       "{'name': '林巧偉', 'chinese': 96, 'english': 85, 'math': 95}"
      ]
     },
     "execution_count": 12,
     "metadata": {},
     "output_type": "execute_result"
    }
   ],
   "source": [
    "student:dict = {'name':\"林巧偉\", \n",
    "                'chinese': 96,  \n",
    "                'english': 85, \n",
    "                'math': 95 }\n",
    "\n",
    "student\n",
    " #[]為subscript\n"
   ]
  },
  {
   "cell_type": "code",
   "execution_count": 13,
   "id": "bdcf170b",
   "metadata": {},
   "outputs": [
    {
     "data": {
      "text/plain": [
       "96"
      ]
     },
     "execution_count": 13,
     "metadata": {},
     "output_type": "execute_result"
    }
   ],
   "source": [
    "#取出值\n",
    "student['name']\n",
    "student['chinese']  "
   ]
  },
  {
   "cell_type": "code",
   "execution_count": 14,
   "id": "c6066594",
   "metadata": {},
   "outputs": [
    {
     "data": {
      "text/plain": [
       "90"
      ]
     },
     "execution_count": 14,
     "metadata": {},
     "output_type": "execute_result"
    }
   ],
   "source": [
    "#改變值\n",
    "student\n",
    "student['chinese'] = 90\n",
    "student['chinese']\n"
   ]
  },
  {
   "cell_type": "code",
   "execution_count": 15,
   "id": "51c999af",
   "metadata": {},
   "outputs": [
    {
     "data": {
      "text/plain": [
       "{'name': '林巧偉', 'chinese': 90, 'english': 85, 'math': 95, 'history': 84}"
      ]
     },
     "execution_count": 15,
     "metadata": {},
     "output_type": "execute_result"
    }
   ],
   "source": [
    "#新增key\n",
    "student['history'] = 84\n",
    "student"
   ]
  }
 ],
 "metadata": {
  "kernelspec": {
   "display_name": "base",
   "language": "python",
   "name": "python3"
  },
  "language_info": {
   "codemirror_mode": {
    "name": "ipython",
    "version": 3
   },
   "file_extension": ".py",
   "mimetype": "text/x-python",
   "name": "python",
   "nbconvert_exporter": "python",
   "pygments_lexer": "ipython3",
   "version": "3.12.7"
  }
 },
 "nbformat": 4,
 "nbformat_minor": 5
}
