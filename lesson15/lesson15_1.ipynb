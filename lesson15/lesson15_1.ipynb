{
 "cells": [
  {
   "cell_type": "markdown",
   "id": "0796308c",
   "metadata": {},
   "source": [
    "https://www.perplexity.ai/search/0638400d-59de-4d83-8e38-0cb807daf590"
   ]
  },
  {
   "cell_type": "code",
   "execution_count": null,
   "id": "5a064fda",
   "metadata": {},
   "outputs": [],
   "source": [
    "import numpy as np\n",
    "from numpy import ndarray\n",
    "\n",
    "my_array:ndarray = np.arange(1000000)\n",
    "my_list = list(range(1000000))\n",
    "my_list"
   ]
  },
  {
   "cell_type": "code",
   "execution_count": null,
   "id": "5b2a716f",
   "metadata": {},
   "outputs": [],
   "source": [
    "%time \n",
    "\n",
    "for _ in range(10):\n",
    "    #list的comprehension,list綜合表達式\n",
    "    my_lists = [x*2 for x in my_list]"
   ]
  },
  {
   "cell_type": "code",
   "execution_count": null,
   "id": "dadade52",
   "metadata": {},
   "outputs": [],
   "source": [
    "%time for _ in range(10): my_array2 = my_array * 2"
   ]
  },
  {
   "cell_type": "code",
   "execution_count": null,
   "id": "dc68ebd3",
   "metadata": {},
   "outputs": [],
   "source": [
    "#tuple,1個元素的表示法\n",
    "(4, 5)\n",
    "type((4,))"
   ]
  },
  {
   "cell_type": "code",
   "execution_count": null,
   "id": "8d5060c9",
   "metadata": {},
   "outputs": [],
   "source": [
    "np.array(range(4)).shape"
   ]
  },
  {
   "cell_type": "markdown",
   "id": "95de8c82",
   "metadata": {},
   "source": [
    "### 50個學生,每個學生有5個分數,每個分數50~100"
   ]
  },
  {
   "cell_type": "code",
   "execution_count": null,
   "id": "02d5ff3d",
   "metadata": {},
   "outputs": [],
   "source": [
    "np.random.seed(42)\n",
    "scores = np.random.randint(50, 101,(50,5))\n",
    "scores"
   ]
  },
  {
   "cell_type": "code",
   "execution_count": null,
   "id": "d40da8b5",
   "metadata": {},
   "outputs": [],
   "source": [
    "np.random.seed(42)\n",
    "scores = np.random.randint(50, 101,(50,5))\n",
    "scores"
   ]
  },
  {
   "cell_type": "code",
   "execution_count": null,
   "id": "54398b07",
   "metadata": {},
   "outputs": [],
   "source": [
    "#ndarray常用的實體屬性\n",
    "scores.ndim\n",
    "scores.shape\n",
    "scores.size\n",
    "scores.dtype"
   ]
  },
  {
   "cell_type": "markdown",
   "id": "f6778c4a",
   "metadata": {},
   "source": [
    "### 基本索引(index)和分割(slicing)\n",
    "- ndarray[index]\n",
    "- ndarray[start:end:step]"
   ]
  },
  {
   "cell_type": "code",
   "execution_count": null,
   "id": "dc1069b1",
   "metadata": {},
   "outputs": [],
   "source": [
    "#2維\n",
    "scores[0][4] #類似list的操作\n",
    "scores[0, 4] #ndarrya的slice的操作法"
   ]
  },
  {
   "cell_type": "code",
   "execution_count": null,
   "id": "ebed9469",
   "metadata": {},
   "outputs": [],
   "source": [
    "## 取得第1位學生的分數\n",
    "scores[0] #shape(5,)\n",
    "scores[0,:] #shape(5,0)\n"
   ]
  },
  {
   "cell_type": "code",
   "execution_count": null,
   "id": "becf5ee2",
   "metadata": {},
   "outputs": [],
   "source": [
    "scores[0:1,:] #shape(1,5)"
   ]
  },
  {
   "cell_type": "code",
   "execution_count": null,
   "id": "88155ba5",
   "metadata": {},
   "outputs": [],
   "source": [
    "## 取得第1,2位學生的分數\n",
    "scores[:2]\n",
    "scores[:2,:]\n",
    "scores[(0,1),:]"
   ]
  },
  {
   "cell_type": "code",
   "execution_count": null,
   "id": "00a91081",
   "metadata": {},
   "outputs": [],
   "source": [
    "## 取得第1,2,5位學生的分數\n",
    "scores[(0,1,4),:]"
   ]
  },
  {
   "cell_type": "code",
   "execution_count": null,
   "id": "4bc0d5cf",
   "metadata": {},
   "outputs": [],
   "source": [
    "## 取得第1科的所有分數\n",
    "scores[:,0] #(50,)\n",
    "scores[:,0:1] #(50,1)"
   ]
  },
  {
   "cell_type": "code",
   "execution_count": null,
   "id": "0e337f30",
   "metadata": {},
   "outputs": [],
   "source": [
    "## 取得第1,2科的所有分數\n",
    "scores[:,:2] #(50,2)"
   ]
  },
  {
   "cell_type": "code",
   "execution_count": null,
   "id": "23283fb1",
   "metadata": {},
   "outputs": [],
   "source": [
    "## 取得前30位學生的最後3科分數\n",
    "scores[:30,-3:] #(30,3)"
   ]
  },
  {
   "cell_type": "code",
   "execution_count": null,
   "id": "578954c7",
   "metadata": {},
   "outputs": [],
   "source": [
    "## 取得前30位學生的最後3科分數\n",
    "scores[:30,2:5] #(30,3)"
   ]
  },
  {
   "cell_type": "markdown",
   "id": "236a1f9e",
   "metadata": {},
   "source": [
    "### ndarray的統計的實體方法\n",
    "- sum()\n",
    "- min()\n",
    "- max()\n",
    "- mean()"
   ]
  },
  {
   "cell_type": "code",
   "execution_count": null,
   "id": "e1f36474",
   "metadata": {},
   "outputs": [],
   "source": [
    "#每個學生的總分\n",
    "scores.sum(axis=1) #ndarray實體方法(method)\n",
    "\n",
    "np.sum(scores,axis=1) #numpy的global的function"
   ]
  },
  {
   "cell_type": "code",
   "execution_count": null,
   "id": "25f0c0b4",
   "metadata": {},
   "outputs": [],
   "source": [
    "#前30位學生的平均\n",
    "scores[:30].mean(axis=1)\n",
    "\n",
    "np.mean(scores[:30],axis=1)"
   ]
  },
  {
   "cell_type": "code",
   "execution_count": null,
   "id": "d7fd69fc",
   "metadata": {},
   "outputs": [],
   "source": [
    "#第1科最高的分數和最低分數\n",
    "scores[:,0].max(axis=0)\n",
    "scores[:,0].min(axis=0)"
   ]
  }
 ],
 "metadata": {
  "kernelspec": {
   "display_name": "myenv",
   "language": "python",
   "name": "python3"
  },
  "language_info": {
   "codemirror_mode": {
    "name": "ipython",
    "version": 3
   },
   "file_extension": ".py",
   "mimetype": "text/x-python",
   "name": "python",
   "nbconvert_exporter": "python",
   "pygments_lexer": "ipython3",
   "version": "3.10.16"
  }
 },
 "nbformat": 4,
 "nbformat_minor": 5
}
