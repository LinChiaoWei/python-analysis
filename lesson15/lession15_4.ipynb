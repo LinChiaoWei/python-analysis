{
 "cells": [
  {
   "cell_type": "markdown",
   "id": "3aa602df",
   "metadata": {},
   "source": [
    "### numpy和pandas的差別是什麼?\n",
    "https://www.perplexity.ai/search/ccdc7544-188b-4ae7-86a8-87742a36ebf9\n",
    "\n",
    "則基於NumPy構建，提供了兩種主要數據結構：Series（一維帶標籤的數組）和DataFrame（類似表格的二維結構），支持異質數據（不同欄位可有不同類型），且同時支持數字索引和標籤索引，適合處理結構化和混合型數據\n",
    "\n",
    "- pandas的底層就是numpy\n",
    "- pandas內有2個class->Series, DataFrame\n",
    "- Series有1個index\n",
    "- DataFrame有2個index,一個代表列,一個代表欄\n",
    "- DataFrame可以有不用的資料類型組成\n",
    "\n",
    "- DataFrame是表格資料\n",
    "- DataFrame是給人類看的"
   ]
  },
  {
   "cell_type": "code",
   "execution_count": null,
   "id": "64b37499",
   "metadata": {},
   "outputs": [],
   "source": [
    "import numpy as np\n",
    "np.random.seed(42)\n",
    "scores = np.random.randint(50, 101,(50,5))\n",
    "scores"
   ]
  },
  {
   "cell_type": "code",
   "execution_count": null,
   "id": "1c711a88",
   "metadata": {},
   "outputs": [],
   "source": [
    "import pandas as pd\n",
    "from pandas import Series,DataFrame\n",
    "df1:DataFrame = pd.DataFrame(scores,\n",
    "                            index=[f'學號{i}' for i in range(1,51)],\n",
    "                            columns=[\"國文\",\"英文\",\"數學\",\"歷史\",\"生物\"])\n",
    "df1"
   ]
  },
  {
   "cell_type": "code",
   "execution_count": null,
   "id": "6127524f",
   "metadata": {},
   "outputs": [],
   "source": [
    "df1.values"
   ]
  }
 ],
 "metadata": {
  "kernelspec": {
   "display_name": "myenv",
   "language": "python",
   "name": "python3"
  },
  "language_info": {
   "codemirror_mode": {
    "name": "ipython",
    "version": 3
   },
   "file_extension": ".py",
   "mimetype": "text/x-python",
   "name": "python",
   "nbconvert_exporter": "python",
   "pygments_lexer": "ipython3",
   "version": "3.10.16"
  }
 },
 "nbformat": 4,
 "nbformat_minor": 5
}
