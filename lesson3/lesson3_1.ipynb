{
 "cells": [
  {
   "cell_type": "markdown",
   "id": "52882993",
   "metadata": {},
   "source": [
    "## 這是第3節上課內容"
   ]
  },
  {
   "cell_type": "code",
   "execution_count": 7,
   "id": "60f2753c",
   "metadata": {},
   "outputs": [
    {
     "name": "stdout",
     "output_type": "stream",
     "text": [
      "矩形的寬:345.8 高:245.896 面積是85030.84\n"
     ]
    }
   ],
   "source": [
    "width = 345.8 #型別(float)\n",
    "height = 245.896 #datatype 型別 (int)  指定運算子為 = \n",
    "#type(width)\n",
    "#type(height)\n",
    "area = width * height\n",
    "#type(area)\n",
    "print(f\"矩形的寬:{width} 高:{height} 面積是{round(area,ndigits=2)}\")\n",
    "\n"
   ]
  },
  {
   "cell_type": "markdown",
   "id": "551e347e",
   "metadata": {},
   "source": [
    "## 當同步變更與同步下載一起時,導致無法同步變更,請在終端機打 git push --force"
   ]
  },
  {
   "cell_type": "markdown",
   "id": "9735eea1",
   "metadata": {},
   "source": [
    "### 重點是'input()'\n",
    "## input()\n",
    "## input(prompt) ()內為參數(parameter)\n",
    "##　input(引數值) 引數值只能為一個字串"
   ]
  },
  {
   "cell_type": "code",
   "execution_count": 9,
   "id": "fa1dbf14",
   "metadata": {},
   "outputs": [
    {
     "data": {
      "text/plain": [
       "float"
      ]
     },
     "execution_count": 9,
     "metadata": {},
     "output_type": "execute_result"
    }
   ],
   "source": [
    "width_input = input(\"請輸入矩形的寬:\")\n",
    "type(width_input)\n",
    "width_value = float(width_input)\n",
    "type(width_value)"
   ]
  },
  {
   "cell_type": "code",
   "execution_count": 13,
   "id": "2d2c57e5",
   "metadata": {},
   "outputs": [
    {
     "name": "stdout",
     "output_type": "stream",
     "text": [
      "矩形的寬:22.33 高:245.896 面積是5490.86\n"
     ]
    }
   ],
   "source": [
    "width = float(input(\"請輸入矩形的寬:\"))\n",
    "hight = float(input(\"請輸入矩形的高\"))\n",
    "area = width * height\n",
    "print(f\"矩形的寬:{width} 高:{height} 面積是{round(area,ndigits=2)}\")"
   ]
  }
 ],
 "metadata": {
  "kernelspec": {
   "display_name": "base",
   "language": "python",
   "name": "python3"
  },
  "language_info": {
   "codemirror_mode": {
    "name": "ipython",
    "version": 3
   },
   "file_extension": ".py",
   "mimetype": "text/x-python",
   "name": "python",
   "nbconvert_exporter": "python",
   "pygments_lexer": "ipython3",
   "version": "3.12.7"
  }
 },
 "nbformat": 4,
 "nbformat_minor": 5
}
