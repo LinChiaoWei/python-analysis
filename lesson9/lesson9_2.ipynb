{
 "cells": [
  {
   "cell_type": "code",
   "execution_count": null,
   "id": "dde0265c",
   "metadata": {},
   "outputs": [],
   "source": [
    "from dataclasses import dataclass\n",
    "\n",
    "@dataclass\n",
    "class Student: # class + 名詞(自首為大寫)\n",
    "    name:str #儲存資料:attibute/property->實體屬性 / name(attibute)可讀可改\n",
    "    chinese:int #chinese(attibute)\n",
    "    english:int #(attibute)\n",
    "    math:int #(attibute)\n",
    "\n",
    "    @property\n",
    "    def sum(self): #在class裡 第一個參數一定要為'self' / sum(property)只可讀 不可修改\n",
    "        return self.chinese + self.english + self.math\n",
    "    \n",
    "    def average(self): #實體方法\n",
    "        return round(self.sum / 3.0,ndigits=2)"
   ]
  },
  {
   "cell_type": "code",
   "execution_count": null,
   "id": "0a5b6c1e",
   "metadata": {},
   "outputs": [
    {
     "ename": "TypeError",
     "evalue": "Student.__init__() missing 4 required positional arguments: 'name', 'chinese', 'english', and 'math'",
     "output_type": "error",
     "traceback": [
      "\u001b[0;31m---------------------------------------------------------------------------\u001b[0m",
      "\u001b[0;31mTypeError\u001b[0m                                 Traceback (most recent call last)",
      "Cell \u001b[0;32mIn[4], line 1\u001b[0m\n\u001b[0;32m----> 1\u001b[0m stu1:Student \u001b[38;5;241m=\u001b[39m Student()\n\u001b[1;32m      2\u001b[0m \u001b[38;5;28mtype\u001b[39m(stu1)\n",
      "\u001b[0;31mTypeError\u001b[0m: Student.__init__() missing 4 required positional arguments: 'name', 'chinese', 'english', and 'math'"
     ]
    }
   ],
   "source": [
    "stu1:Student = Student()\n",
    "type(student)"
   ]
  },
  {
   "cell_type": "code",
   "execution_count": 38,
   "id": "aff4b80d",
   "metadata": {},
   "outputs": [],
   "source": [
    "stu1:Student = Student(name=\"robert\", \n",
    "                        chinese=98,   \n",
    "                        english=75, \n",
    "                        math=69)\n",
    "\n",
    "stu2:Student = Student(name=\"jenny\", \n",
    "                        chinese=87,   \n",
    "                        english=92, \n",
    "                        math=75)"
   ]
  },
  {
   "cell_type": "code",
   "execution_count": 31,
   "id": "f71177ee",
   "metadata": {},
   "outputs": [
    {
     "data": {
      "text/plain": [
       "('robert', 98, 75, 69)"
      ]
     },
     "execution_count": 31,
     "metadata": {},
     "output_type": "execute_result"
    }
   ],
   "source": [
    "(stu1.name, stu1.chinese, stu1.english, stu1.math) #tuple"
   ]
  },
  {
   "cell_type": "code",
   "execution_count": 32,
   "id": "ddda99aa",
   "metadata": {},
   "outputs": [
    {
     "data": {
      "text/plain": [
       "('jenny', 87, 92, 75)"
      ]
     },
     "execution_count": 32,
     "metadata": {},
     "output_type": "execute_result"
    }
   ],
   "source": [
    "(stu2.name, stu2.chinese, stu2.english, stu2.math) #tuple"
   ]
  },
  {
   "cell_type": "code",
   "execution_count": null,
   "id": "64b5d2da",
   "metadata": {},
   "outputs": [
    {
     "name": "stdout",
     "output_type": "stream",
     "text": [
      "('robert', 100, 75, 69)\n",
      "244\n",
      "81.33\n"
     ]
    }
   ],
   "source": [
    "stu1.chinese = 100\n",
    "#stu1.sum = 300 一般的property只可以讀,不可以寫入(readonly)\n",
    "print((stu1.name, stu1.chinese, stu1.english, stu1.math))\n",
    "print(stu1.sum) #呼叫property 不用()\n",
    "print(stu1.average()) #呼叫實體方法 要()"
   ]
  },
  {
   "cell_type": "code",
   "execution_count": 40,
   "id": "06b063fa",
   "metadata": {},
   "outputs": [
    {
     "name": "stdout",
     "output_type": "stream",
     "text": [
      "('jenny', 87, 92, 75)\n",
      "254\n",
      "84.67\n"
     ]
    }
   ],
   "source": [
    "print((stu2.name, stu2.chinese, stu2.english, stu2.math))\n",
    "print(stu2.sum)\n",
    "print(stu2.average())"
   ]
  }
 ],
 "metadata": {
  "kernelspec": {
   "display_name": "base",
   "language": "python",
   "name": "python3"
  },
  "language_info": {
   "codemirror_mode": {
    "name": "ipython",
    "version": 3
   },
   "file_extension": ".py",
   "mimetype": "text/x-python",
   "name": "python",
   "nbconvert_exporter": "python",
   "pygments_lexer": "ipython3",
   "version": "3.12.7"
  }
 },
 "nbformat": 4,
 "nbformat_minor": 5
}
