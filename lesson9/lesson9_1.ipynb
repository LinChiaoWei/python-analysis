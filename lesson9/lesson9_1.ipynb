{
 "cells": [
  {
   "cell_type": "markdown",
   "id": "d6d8542f",
   "metadata": {},
   "source": [
    "### 暱名function\n",
    "- lambda\n",
    "- 只可以一行\n",
    "- 自動return\n",
    "->比較簡短的function\n",
    "\n",
    "- function可以當作引數的值\n",
    "- filter(function, iterable) = filter(自訂的function,串列資料) -> 說明書\n",
    "- 也可用def建function\n"
   ]
  },
  {
   "cell_type": "markdown",
   "id": "05460175",
   "metadata": {},
   "source": [
    "### 如何取得使用方法及小範例\n",
    "- https://www.perplexity.ai/   (perplexity)\n"
   ]
  },
  {
   "cell_type": "markdown",
   "id": "e79297ec",
   "metadata": {},
   "source": [
    "# python內建function\n",
    "- 請說明filter()\n",
    "- 請提供小範例\n",
    "- 請使用繁體中文回答"
   ]
  },
  {
   "cell_type": "code",
   "execution_count": null,
   "id": "4a4f7989",
   "metadata": {},
   "outputs": [
    {
     "name": "stdout",
     "output_type": "stream",
     "text": [
      "[1, 3, 5, 7, 9]\n"
     ]
    }
   ],
   "source": [
    "# def is_even(x):\n",
    "#     return x % 2 == 0\n",
    "\n",
    "nums = [1, 2, 3, 4, 5, 6, 7, 8, 9, 10]\n",
    "odd_nums = list(filter(lambda x: x %2 != 0, nums)) # != (不等於)\n",
    "print(odd_nums)"
   ]
  },
  {
   "cell_type": "code",
   "execution_count": 5,
   "id": "4f82d74f",
   "metadata": {},
   "outputs": [
    {
     "name": "stdout",
     "output_type": "stream",
     "text": [
      "[2, 4, 6, 8, 10]\n"
     ]
    }
   ],
   "source": [
    "nums = [1, 2, 3, 4, 5, 6, 7, 8, 9, 10]\n",
    "even_nums = list(filter(lambda x: x % 2 == 0, nums))\n",
    "print(even_nums)"
   ]
  },
  {
   "cell_type": "markdown",
   "id": "92c2a654",
   "metadata": {},
   "source": [
    "### list[dict=dictionary]\n",
    "- dict裡放的一組相關聯的資料\n",
    "- list裡放的組合資料(相關聯的資料=key & value -> EXCEL表格)\n",
    "- list為串列資料()\n",
    "- dict為mapping"
   ]
  },
  {
   "cell_type": "code",
   "execution_count": 6,
   "id": "cbfd7786",
   "metadata": {},
   "outputs": [
    {
     "name": "stdout",
     "output_type": "stream",
     "text": [
      "90分以上的人有:小華 小麗 "
     ]
    }
   ],
   "source": [
    "students:list[dict] = [\n",
    "    {\"name\": \"小明\", \"chinese\": 85, \"english\": 92, \"math\": 78},\n",
    "    {\"name\": \"小華\", \"chinese\": 90, \"english\": 88, \"math\": 95},\n",
    "    {\"name\": \"小美\", \"chinese\": 79, \"english\": 85, \"math\": 90},\n",
    "    {\"name\": \"小強\", \"chinese\": 88, \"english\": 92, \"math\": 87},\n",
    "    {\"name\": \"小麗\", \"chinese\": 95, \"english\": 89, \"math\": 93}\n",
    "]\n",
    "\n",
    "p=list(filter(lambda x: x['chinese']>=90,students))\n",
    "\n",
    "print(\"90分以上的人有:\",end='')\n",
    "for student in p:\n",
    "    print(student[\"name\"],end=' ')"
   ]
  },
  {
   "cell_type": "markdown",
   "id": "255f5c8b",
   "metadata": {},
   "source": []
  },
  {
   "cell_type": "code",
   "execution_count": 1,
   "id": "41091ba5",
   "metadata": {},
   "outputs": [
    {
     "name": "stdout",
     "output_type": "stream",
     "text": [
      "<class 'list'>\n"
     ]
    }
   ],
   "source": [
    "students:list[dict] = [\n",
    "    {\"name\": \"小明\", \"chinese\": 85, \"english\": 92, \"math\": 78},\n",
    "    {\"name\": \"小華\", \"chinese\": 90, \"english\": 88, \"math\": 95},\n",
    "    {\"name\": \"小美\", \"chinese\": 79, \"english\": 85, \"math\": 90},\n",
    "    {\"name\": \"小強\", \"chinese\": 88, \"english\": 92, \"math\": 87},\n",
    "    {\"name\": \"小麗\", \"chinese\": 95, \"english\": 89, \"math\": 93}\n",
    "]\n",
    "print(list)"
   ]
  },
  {
   "cell_type": "markdown",
   "id": "15b99566",
   "metadata": {},
   "source": [
    "### list建立實體"
   ]
  },
  {
   "cell_type": "code",
   "execution_count": null,
   "id": "5c684820",
   "metadata": {},
   "outputs": [
    {
     "data": {
      "text/plain": [
       "dict"
      ]
     },
     "execution_count": 3,
     "metadata": {},
     "output_type": "execute_result"
    }
   ],
   "source": [
    "#使用符號建立實體\n",
    "ls1 = [1, 2, 3]\n",
    "type(ls1)\n",
    "di2 = {'one':1, 'two':2}\n",
    "type(di2)"
   ]
  },
  {
   "cell_type": "code",
   "execution_count": 4,
   "id": "b89feebc",
   "metadata": {},
   "outputs": [
    {
     "data": {
      "text/plain": [
       "[1, 2, 3, 4, 5, 6, 7, 8, 9, 10]"
      ]
     },
     "execution_count": 4,
     "metadata": {},
     "output_type": "execute_result"
    }
   ],
   "source": [
    "#使用class建立實體\n",
    "ls3 = list(range(1, 11))\n",
    "ls3"
   ]
  },
  {
   "cell_type": "code",
   "execution_count": 5,
   "id": "00c68c3c",
   "metadata": {},
   "outputs": [
    {
     "data": {
      "text/plain": [
       "[]"
      ]
     },
     "execution_count": 5,
     "metadata": {},
     "output_type": "execute_result"
    }
   ],
   "source": [
    "ls4 = list()\n",
    "ls4"
   ]
  }
 ],
 "metadata": {
  "kernelspec": {
   "display_name": "base",
   "language": "python",
   "name": "python3"
  },
  "language_info": {
   "codemirror_mode": {
    "name": "ipython",
    "version": 3
   },
   "file_extension": ".py",
   "mimetype": "text/x-python",
   "name": "python",
   "nbconvert_exporter": "python",
   "pygments_lexer": "ipython3",
   "version": "3.12.7"
  }
 },
 "nbformat": 4,
 "nbformat_minor": 5
}
