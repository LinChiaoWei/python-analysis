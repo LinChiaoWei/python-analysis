{
 "cells": [
  {
   "cell_type": "code",
   "execution_count": null,
   "id": "63479371",
   "metadata": {},
   "outputs": [
    {
     "name": "stdout",
     "output_type": "stream",
     "text": [
      "身高:155cm\n",
      "體重:45kg\n",
      "BMI:18.7\n"
     ]
    }
   ],
   "source": [
    "height:int = int(input(\"請輸入身高公分\"))\n",
    "weight:int = int(input(\"請輸入體重公斤\"))\n",
    "BMI:float  = round(weight/pow(height/100,2),1)\n",
    "\n",
    "print(f\"身高:{height}\"\"cm\")\n",
    "print(f\"體重:{weight}\"\"kg\")\n",
    "print(f\"BMI:{BMI}\")\n",
    "\n",
    "if BMI < 18.5:\n",
    "    status = \"體重過輕\"\n",
    "elif BMI < 24:\n",
    "    status = \"正常\"\n",
    "elif BMI < 27:\n",
    "    status = \"過重\"\n",
    "elif BMI < 30:\n",
    "    status = \"輕度肥胖\"\n",
    "elif BMI <35:\n",
    "    status = \"中度肥胖\"\n",
    "else:\n",
    "    status = \"重度肥胖\"\n",
    "print(f\"狀態:{status}\")\n"
   ]
  },
  {
   "cell_type": "markdown",
   "id": "b9ba2cf0",
   "metadata": {},
   "source": [
    "### main標示為以python開啟lesson7_1.ipynb"
   ]
  },
  {
   "cell_type": "code",
   "execution_count": 4,
   "id": "9ef1055c",
   "metadata": {},
   "outputs": [
    {
     "data": {
      "text/plain": [
       "{'__name__': '__main__',\n",
       " '__doc__': 'Automatically created module for IPython interactive environment',\n",
       " '__package__': None,\n",
       " '__loader__': None,\n",
       " '__spec__': None,\n",
       " '__builtin__': <module 'builtins' (built-in)>,\n",
       " '__builtins__': <module 'builtins' (built-in)>,\n",
       " '_ih': ['',\n",
       "  'height:int = int(input(\"請輸入身高公分\")\\nweight:int = int(input(\"請輸入體重公斤\")\\nBMI = round(weight/pow(height/100,2),1)\\nprint(f\"身高:{height}\"\"cm\")\",\\nprint(f\"體重:{weight}\"\"kg\")\",\\nprint(f\"BMI:{BMI}\")',\n",
       "  'height:int = int(input(\"請輸入身高公分\")\\nweight:int = int(input(\"請輸入體重公斤\")\\nBMI = round(weight/pow(height/100,2),1)\\nprint(f\"身高:{height}\"\"cm\")\\nprint(f\"體重:{weight}\"\"kg\")\\nprint(f\"BMI:{BMI}\")',\n",
       "  'height:int = int(input(\"請輸入身高公分\"))\\nweight:int = int(input(\"請輸入體重公斤\"))\\nBMI = round(weight/pow(height/100,2),1)\\nprint(f\"身高:{height}\"\"cm\")\\nprint(f\"體重:{weight}\"\"kg\")\\nprint(f\"BMI:{BMI}\")',\n",
       "  'vars()'],\n",
       " '_oh': {},\n",
       " '_dh': [PosixPath('/workspaces/python-analysis/lesson7')],\n",
       " 'In': ['',\n",
       "  'height:int = int(input(\"請輸入身高公分\")\\nweight:int = int(input(\"請輸入體重公斤\")\\nBMI = round(weight/pow(height/100,2),1)\\nprint(f\"身高:{height}\"\"cm\")\",\\nprint(f\"體重:{weight}\"\"kg\")\",\\nprint(f\"BMI:{BMI}\")',\n",
       "  'height:int = int(input(\"請輸入身高公分\")\\nweight:int = int(input(\"請輸入體重公斤\")\\nBMI = round(weight/pow(height/100,2),1)\\nprint(f\"身高:{height}\"\"cm\")\\nprint(f\"體重:{weight}\"\"kg\")\\nprint(f\"BMI:{BMI}\")',\n",
       "  'height:int = int(input(\"請輸入身高公分\"))\\nweight:int = int(input(\"請輸入體重公斤\"))\\nBMI = round(weight/pow(height/100,2),1)\\nprint(f\"身高:{height}\"\"cm\")\\nprint(f\"體重:{weight}\"\"kg\")\\nprint(f\"BMI:{BMI}\")',\n",
       "  'vars()'],\n",
       " 'Out': {},\n",
       " 'get_ipython': <bound method InteractiveShell.get_ipython of <ipykernel.zmqshell.ZMQInteractiveShell object at 0x7a0414b50e30>>,\n",
       " 'exit': <IPython.core.autocall.ZMQExitAutocall at 0x7a0414b50380>,\n",
       " 'quit': <IPython.core.autocall.ZMQExitAutocall at 0x7a0414b50380>,\n",
       " 'open': <function _io.open(file, mode='r', buffering=-1, encoding=None, errors=None, newline=None, closefd=True, opener=None)>,\n",
       " '_': '',\n",
       " '__': '',\n",
       " '___': '',\n",
       " '__vsc_ipynb_file__': '/workspaces/python-analysis/lesson7/lessom7_1.ipynb',\n",
       " '_i': 'height:int = int(input(\"請輸入身高公分\"))\\nweight:int = int(input(\"請輸入體重公斤\"))\\nBMI = round(weight/pow(height/100,2),1)\\nprint(f\"身高:{height}\"\"cm\")\\nprint(f\"體重:{weight}\"\"kg\")\\nprint(f\"BMI:{BMI}\")',\n",
       " '_ii': 'height:int = int(input(\"請輸入身高公分\")\\nweight:int = int(input(\"請輸入體重公斤\")\\nBMI = round(weight/pow(height/100,2),1)\\nprint(f\"身高:{height}\"\"cm\")\\nprint(f\"體重:{weight}\"\"kg\")\\nprint(f\"BMI:{BMI}\")',\n",
       " '_iii': 'height:int = int(input(\"請輸入身高公分\")\\nweight:int = int(input(\"請輸入體重公斤\")\\nBMI = round(weight/pow(height/100,2),1)\\nprint(f\"身高:{height}\"\"cm\")\",\\nprint(f\"體重:{weight}\"\"kg\")\",\\nprint(f\"BMI:{BMI}\")',\n",
       " '_i1': 'height:int = int(input(\"請輸入身高公分\")\\nweight:int = int(input(\"請輸入體重公斤\")\\nBMI = round(weight/pow(height/100,2),1)\\nprint(f\"身高:{height}\"\"cm\")\",\\nprint(f\"體重:{weight}\"\"kg\")\",\\nprint(f\"BMI:{BMI}\")',\n",
       " '_i2': 'height:int = int(input(\"請輸入身高公分\")\\nweight:int = int(input(\"請輸入體重公斤\")\\nBMI = round(weight/pow(height/100,2),1)\\nprint(f\"身高:{height}\"\"cm\")\\nprint(f\"體重:{weight}\"\"kg\")\\nprint(f\"BMI:{BMI}\")',\n",
       " '_i3': 'height:int = int(input(\"請輸入身高公分\"))\\nweight:int = int(input(\"請輸入體重公斤\"))\\nBMI = round(weight/pow(height/100,2),1)\\nprint(f\"身高:{height}\"\"cm\")\\nprint(f\"體重:{weight}\"\"kg\")\\nprint(f\"BMI:{BMI}\")',\n",
       " '__annotations__': {'height': int, 'weight': int},\n",
       " 'height': 155,\n",
       " 'weight': 45,\n",
       " 'BMI': 18.7,\n",
       " '_i4': 'vars()'}"
      ]
     },
     "execution_count": 4,
     "metadata": {},
     "output_type": "execute_result"
    }
   ],
   "source": [
    "vars()"
   ]
  },
  {
   "cell_type": "markdown",
   "id": "a95d2216",
   "metadata": {},
   "source": [
    "### def main(): 下方加入程式區塊 記得縮排\n",
    "### if __name__ == '__main__': (全域變數)\n",
    "     main() \n",
    "### function(def main())是個命名空間(namespace) (區域變數)\n",
    "\n",
    "- 自訂function(自訂一個功能):局部程式碼拆出來\n"
   ]
  },
  {
   "cell_type": "code",
   "execution_count": null,
   "id": "3f43e8b2",
   "metadata": {},
   "outputs": [],
   "source": [
    "def get_status(bmi:float)->str:\n",
    "    if bmi < 18.5:\n",
    "        status = \"體重過輕\"\n",
    "    elif bmi < 24:\n",
    "        status = \"正常\"\n",
    "    elif bmi < 27:\n",
    "        status = \"過重\"\n",
    "    elif bmi < 30:\n",
    "        status = \"輕度肥胖\"\n",
    "    elif bmi <35:\n",
    "        status = \"中度肥胖\"\n",
    "    else:\n",
    "        status = \"重度肥胖\"\n",
    "    \n",
    "     print(f\"狀態:{status}\")\n",
    "\n",
    "def main():\n",
    "    height:int = int(input(\"請輸入身高公分\"))\n",
    "    weight:int = int(input(\"請輸入體重公斤\"))\n",
    "    BMI:float  = round(weight/pow(height/100,2),1)\n",
    "\n",
    "    print(f\"身高:{height}\"\"cm\")\n",
    "    print(f\"體重:{weight}\"\"kg\")\n",
    "    print(f\"BMI:{BMI}\")\n",
    "    get_status(BMI)\n",
    "\n",
    "if __name__ == '__main__':\n",
    "    main()"
   ]
  },
  {
   "cell_type": "code",
   "execution_count": null,
   "id": "8d8376e0",
   "metadata": {},
   "outputs": [],
   "source": [
    "def get_status(bmi:float)->str:\n",
    "    if bmi < 18.5:\n",
    "        status = \"體重過輕\"\n",
    "    elif bmi < 24:\n",
    "        status = \"正常\"\n",
    "    elif bmi < 27:\n",
    "        status = \"過重\"\n",
    "    elif bmi < 30:\n",
    "        status = \"輕度肥胖\"\n",
    "    elif bmi <35:\n",
    "        status = \"中度肥胖\"\n",
    "    else:\n",
    "        status = \"重度肥胖\"\n",
    "    \n",
    "    return status\n",
    "\n",
    "def main():\n",
    "    height:int = int(input(\"請輸入身高公分\"))\n",
    "    weight:int = int(input(\"請輸入體重公斤\"))\n",
    "    BMI:float  = round(weight/pow(height/100,2),1)\n",
    "\n",
    "    print(f\"身高:{height}\"\"cm\")\n",
    "    print(f\"體重:{weight}\"\"kg\")\n",
    "    print(f\"BMI:{BMI}\")\n",
    "    status:str = get_status(BMI)\n",
    "    print(f\"狀態為:{status}\")\n",
    "    \n",
    "if __name__ == '__main__':\n",
    "    main()"
   ]
  },
  {
   "cell_type": "markdown",
   "id": "e6fc2c52",
   "metadata": {},
   "source": [
    "### 建立function的目的\n",
    "- 結構化程式\n",
    "- 減少main()的程式碼\n",
    "- 重複呼叫\n",
    "- 減小程式的複雜度"
   ]
  },
  {
   "cell_type": "code",
   "execution_count": null,
   "id": "ffbc0172",
   "metadata": {},
   "outputs": [],
   "source": [
    "def get_status(bmi:float)->str:\n",
    "    if bmi < 18.5:\n",
    "        status = \"體重過輕\"\n",
    "    elif bmi < 24:\n",
    "        status = \"正常\"\n",
    "    elif bmi < 27:\n",
    "        status = \"過重\"\n",
    "    elif bmi < 30:\n",
    "        status = \"輕度肥胖\"\n",
    "    elif bmi <35:\n",
    "        status = \"中度肥胖\"\n",
    "    else:\n",
    "        status = \"重度肥胖\"\n",
    "    \n",
    "    return status\n",
    "\n",
    "def get_bmi(w:int, h:int)->float:\n",
    "    return round(w/pow(h/100,2),1)\n",
    "\n",
    "def main():\n",
    "    height:int = int(input(\"請輸入身高公分\"))\n",
    "    weight:int = int(input(\"請輸入體重公斤\"))\n",
    "    BMI:float = get_bmi(weight,height)\n",
    "\n",
    "    print(f\"身高:{height}\"\"cm\")\n",
    "    print(f\"體重:{weight}\"\"kg\")\n",
    "    print(f\"BMI:{BMI}\")\n",
    "    status:str = get_status(BMI)   \n",
    "    print(f\"狀態為:{status}\")\n",
    "\n",
    "if __name__ == '__main__':\n",
    "    main()"
   ]
  },
  {
   "cell_type": "markdown",
   "id": "94522def",
   "metadata": {},
   "source": [
    "###  自訂函數庫-> 自訂module(模組py)\n",
    "- 放入function\n",
    "- 建立一個新的.py檔,將模組移入,再傳出資料程式碼前,記得加上模組名稱"
   ]
  },
  {
   "cell_type": "markdown",
   "id": "c8a275c3",
   "metadata": {},
   "source": [
    "### package裡面存放.py及package\n",
    "- py檔->module\n",
    "- 文件夾->package"
   ]
  }
 ],
 "metadata": {
  "kernelspec": {
   "display_name": "base",
   "language": "python",
   "name": "python3"
  },
  "language_info": {
   "codemirror_mode": {
    "name": "ipython",
    "version": 3
   },
   "file_extension": ".py",
   "mimetype": "text/x-python",
   "name": "python",
   "nbconvert_exporter": "python",
   "pygments_lexer": "ipython3",
   "version": "3.12.7"
  }
 },
 "nbformat": 4,
 "nbformat_minor": 5
}
