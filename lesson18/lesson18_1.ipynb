{
 "cells": [
  {
   "cell_type": "markdown",
   "id": "797b2600",
   "metadata": {},
   "source": [
    "https://www.perplexity.ai/search/24ff35fa-aad9-4978-a3b3-8d5d89428f93"
   ]
  },
  {
   "cell_type": "code",
   "execution_count": null,
   "id": "8f69f872",
   "metadata": {},
   "outputs": [],
   "source": [
    "\n",
    "import pandas as pd\n",
    "from pandas import DataFrame\n",
    "\n",
    "df:DataFrame = pd.read_csv('各鄉鎮市區人口密度.csv')\n",
    "df1 = df.drop(index=0)\n",
    "df2 = df1.rename(columns={'statistic_yyy':'統計年',\n",
    "    'site_id':'區域別',\n",
    "    'people_total':'年底人口數',\n",
    "    'area':'土地面積',\n",
    "    'population_density':'人口密度'})\n",
    "df3 = df2.dropna()\n",
    "df4 = df3.replace('… ',0)\n",
    "df4['年底人口數'] = df4['年底人口數'].astype(int)\n",
    "df4['土地面積'] = df4['土地面積'].astype(float)\n",
    "df4['人口密度'] = df4['人口密度'].astype(int)\n",
    "def get_area(value:str) -> str:\n",
    "    if len(value)>4:\n",
    "        return value[:3]\n",
    "    else:\n",
    "        return value\n",
    "\n",
    "\n",
    "df4['縣市'] = df4['區域別'].apply(get_area)\n",
    "def delete_area(value:str,n) -> str:\n",
    "    if len(value)>n:\n",
    "        return value[-3:]\n",
    "    else:\n",
    "        return value\n",
    "\n",
    "df4['區域別'] = df4['區域別'].apply(delete_area,n=4)\n",
    "df5 = df4.reindex(columns=['縣市','區域別','年底人口數','土地面積','人口密度'])\n",
    "df5"
   ]
  },
  {
   "cell_type": "code",
   "execution_count": null,
   "id": "e2d9ab08",
   "metadata": {},
   "outputs": [],
   "source": [
    "df5.to_csv('人口.csv',index=False) #儲存為csv檔"
   ]
  },
  {
   "cell_type": "code",
   "execution_count": null,
   "id": "d01f72c7",
   "metadata": {},
   "outputs": [],
   "source": [
    "!pip install openpyxl #呼叫新安裝套件"
   ]
  },
  {
   "cell_type": "code",
   "execution_count": null,
   "id": "57c60131",
   "metadata": {},
   "outputs": [],
   "source": [
    "df5.to_excel('人口.xlsx',sheet_name='工作表1',index=False) #儲存為excel檔"
   ]
  }
 ],
 "metadata": {
  "kernelspec": {
   "display_name": "myenv",
   "language": "python",
   "name": "python3"
  },
  "language_info": {
   "codemirror_mode": {
    "name": "ipython",
    "version": 3
   },
   "file_extension": ".py",
   "mimetype": "text/x-python",
   "name": "python",
   "nbconvert_exporter": "python",
   "pygments_lexer": "ipython3",
   "version": "3.10.16"
  }
 },
 "nbformat": 4,
 "nbformat_minor": 5
}
