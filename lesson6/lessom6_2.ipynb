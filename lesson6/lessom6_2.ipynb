{
 "cells": [
  {
   "cell_type": "markdown",
   "id": "dce7ed18",
   "metadata": {},
   "source": [
    "### 不知道執行次數的迴圈 while\n",
    "- 建立變數\n",
    "- 比較變數\n",
    "- 改變變數"
   ]
  },
  {
   "cell_type": "code",
   "execution_count": 1,
   "id": "6d8b93fc",
   "metadata": {},
   "outputs": [
    {
     "name": "stdout",
     "output_type": "stream",
     "text": [
      "恭喜!已經存夠了,存了1月,共存了32000元\n"
     ]
    }
   ],
   "source": [
    "#小明想要存錢買一輛機車,機車每輛30000元，他將每月存的錢輸入，當存款足夠買機車時，就顯示提示訊息告知。\n",
    "#你不知道要存幾個月\n",
    "#必需找到被比較的變數\n",
    "\n",
    "deposit = 0\n",
    "month = 0\n",
    "while(deposit < 30000):\n",
    "    month += 1\n",
    "    input_money = int(input(f\"請輸入第{month}月份的存款:\"))\n",
    "    deposit += input_money\n",
    "\n",
    "print(f\"恭喜!已經存夠了,存了{month}月,共存了{deposit}元\")"
   ]
  },
  {
   "cell_type": "code",
   "execution_count": 3,
   "id": "7c56b6c9",
   "metadata": {},
   "outputs": [
    {
     "name": "stdout",
     "output_type": "stream",
     "text": [
      "存了1月,共存了32000元\n"
     ]
    }
   ],
   "source": [
    "deposit = 0\n",
    "month = 0\n",
    "while deposit < 30000:\n",
    "    month += 1\n",
    "    input_money = int(input(f'清輸入第{month}月份存款:'))\n",
    "    deposit += input_money\n",
    "print(f'存了{month}月,共存了{deposit}元')"
   ]
  },
  {
   "cell_type": "markdown",
   "id": "2256a05f",
   "metadata": {},
   "source": [
    "### break 離開迴圈\n",
    "### continue 跳至下一輪迴圈"
   ]
  },
  {
   "cell_type": "code",
   "execution_count": 7,
   "id": "678cc29f",
   "metadata": {},
   "outputs": [
    {
     "name": "stdout",
     "output_type": "stream",
     "text": [
      "恭喜!已經存夠了,存了2月,共存了343000元\n"
     ]
    }
   ],
   "source": [
    "deposit = 0\n",
    "month = 0\n",
    "while(True):\n",
    "    month += 1\n",
    "    input_money = int(input(f\"請輸入第{month}月份的存款:\"))\n",
    "    deposit += input_money\n",
    "    if(deposit>=30000):\n",
    "        break\n",
    "print(f\"恭喜!已經存夠了,存了{month}月,共存了{deposit}元\")"
   ]
  },
  {
   "cell_type": "code",
   "execution_count": null,
   "id": "b7109a3a",
   "metadata": {},
   "outputs": [],
   "source": []
  }
 ],
 "metadata": {
  "kernelspec": {
   "display_name": "base",
   "language": "python",
   "name": "python3"
  },
  "language_info": {
   "codemirror_mode": {
    "name": "ipython",
    "version": 3
   },
   "file_extension": ".py",
   "mimetype": "text/x-python",
   "name": "python",
   "nbconvert_exporter": "python",
   "pygments_lexer": "ipython3",
   "version": "3.12.7"
  }
 },
 "nbformat": 4,
 "nbformat_minor": 5
}
