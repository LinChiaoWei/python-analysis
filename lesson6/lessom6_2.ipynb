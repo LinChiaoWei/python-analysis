{
 "cells": [
  {
   "cell_type": "markdown",
   "id": "dce7ed18",
   "metadata": {},
   "source": [
    "### 不知道執行次數的迴圈 while\n",
    "- 建立變數\n",
    "- 比較變數\n",
    "- 改變變數"
   ]
  },
  {
   "cell_type": "code",
   "execution_count": 1,
   "id": "6d8b93fc",
   "metadata": {},
   "outputs": [
    {
     "name": "stdout",
     "output_type": "stream",
     "text": [
      "恭喜!已經存夠了,存了1月,共存了32000元\n"
     ]
    }
   ],
   "source": [
    "#小明想要存錢買一輛機車,機車每輛30000元，他將每月存的錢輸入，當存款足夠買機車時，就顯示提示訊息告知。\n",
    "#你不知道要存幾個月\n",
    "#必需找到被比較的變數\n",
    "\n",
    "deposit = 0\n",
    "month = 0\n",
    "while(deposit < 30000):\n",
    "    month += 1\n",
    "    input_money = int(input(f\"請輸入第{month}月份的存款:\"))\n",
    "    deposit += input_money\n",
    "\n",
    "print(f\"恭喜!已經存夠了,存了{month}月,共存了{deposit}元\")"
   ]
  },
  {
   "cell_type": "code",
   "execution_count": 3,
   "id": "7c56b6c9",
   "metadata": {},
   "outputs": [
    {
     "name": "stdout",
     "output_type": "stream",
     "text": [
      "存了1月,共存了32000元\n"
     ]
    }
   ],
   "source": [
    "deposit = 0\n",
    "month = 0\n",
    "while deposit < 30000:\n",
    "    month += 1\n",
    "    input_money = int(input(f'清輸入第{month}月份存款:'))\n",
    "    deposit += input_money\n",
    "print(f'存了{month}月,共存了{deposit}元')"
   ]
  },
  {
   "cell_type": "markdown",
   "id": "2256a05f",
   "metadata": {},
   "source": [
    "### break 離開迴圈\n",
    "### continue 跳至下一輪迴圈"
   ]
  },
  {
   "cell_type": "code",
   "execution_count": 7,
   "id": "678cc29f",
   "metadata": {},
   "outputs": [
    {
     "name": "stdout",
     "output_type": "stream",
     "text": [
      "恭喜!已經存夠了,存了2月,共存了343000元\n"
     ]
    }
   ],
   "source": [
    "deposit = 0\n",
    "month = 0\n",
    "while(True):\n",
    "    month += 1\n",
    "    input_money = int(input(f\"請輸入第{month}月份的存款:\"))\n",
    "    deposit += input_money\n",
    "    if(deposit>=30000):\n",
    "        break\n",
    "print(f\"恭喜!已經存夠了,存了{month}月,共存了{deposit}元\")"
   ]
  },
  {
   "cell_type": "markdown",
   "id": "e467d78d",
   "metadata": {},
   "source": [
    "- 奇數輸出平方\n",
    "- 偶數不做任何動作\n",
    "- 'q'要離開"
   ]
  },
  {
   "cell_type": "code",
   "execution_count": 4,
   "id": "305deaf6",
   "metadata": {},
   "outputs": [
    {
     "name": "stdout",
     "output_type": "stream",
     "text": [
      "應用程式結束\n"
     ]
    }
   ],
   "source": [
    "while(True):\n",
    "    value = input('請輸入整,輸入[q]離開:')\n",
    "    if value == 'q':\n",
    "        break\n",
    "    try:\n",
    "        value = int(value)\n",
    "    except:\n",
    "        print(\"輸入錯誤,請重新輸入\")\n",
    "        continue\n",
    "    if (value % 2 == 1):\n",
    "        print(f\"{value}的平方是{value**2}\")\n",
    "    else:\n",
    "        continue\n",
    "print(\"應用程式結束\")    "
   ]
  },
  {
   "cell_type": "code",
   "execution_count": null,
   "id": "15c2bb44",
   "metadata": {},
   "outputs": [],
   "source": [
    "while(True):\n",
    "    value = input('請輸入整數,輸入[q]離開:')\n",
    "    if value == 'q':\n",
    "        break\n",
    "\n",
    "    try:\n",
    "        value = int(value)\n",
    "    except:\n",
    "        print(\"輸入錯誤,請重新輸入\")\n",
    "        continue\n",
    "    \n",
    "    if (value % 2 == 1):\n",
    "        print(f\"{value}的平方是{value**2}\")\n",
    "    #else:\n",
    "    #    continue\n",
    "\n",
    "print(\"應用程式結束\")"
   ]
  },
  {
   "cell_type": "markdown",
   "id": "e613ccf1",
   "metadata": {},
   "source": [
    "### 建立亂數"
   ]
  },
  {
   "cell_type": "code",
   "execution_count": 12,
   "id": "af3cd48a",
   "metadata": {},
   "outputs": [
    {
     "data": {
      "text/plain": [
       "9"
      ]
     },
     "execution_count": 12,
     "metadata": {},
     "output_type": "execute_result"
    }
   ],
   "source": [
    "import random\n",
    "random.randint(5,10)"
   ]
  },
  {
   "cell_type": "code",
   "execution_count": 11,
   "id": "09210036",
   "metadata": {},
   "outputs": [
    {
     "data": {
      "text/plain": [
       "57"
      ]
     },
     "execution_count": 11,
     "metadata": {},
     "output_type": "execute_result"
    }
   ],
   "source": [
    "import random\n",
    "rand_num = random.randint(1,100)\n",
    "rand_num"
   ]
  },
  {
   "cell_type": "markdown",
   "id": "5bab0de9",
   "metadata": {},
   "source": [
    "### 議題"
   ]
  },
  {
   "cell_type": "code",
   "execution_count": null,
   "id": "504545c7",
   "metadata": {},
   "outputs": [],
   "source": [
    "num = int(input(\"請輸入整數,求所有的因數:\"))\n",
    "print(f\"{num}的因數有:\", end=\"\")\n",
    "for i in range(1,num+1):\n",
    "    if num % i == 0:\n",
    "        print(i,end=\"  \")"
   ]
  },
  {
   "cell_type": "code",
   "execution_count": 26,
   "id": "30907f3a",
   "metadata": {},
   "outputs": [
    {
     "name": "stdout",
     "output_type": "stream",
     "text": [
      "60與30的公因數有: 1 2 3 5 6 10 15 30 "
     ]
    }
   ],
   "source": [
    "n = int(input(\"請輸入第1個數:\"))\n",
    "m = int(input(\"請輸入第2個數:\"))\n",
    "print(f\"{n}與{m}的公因數有:\",end=' ')\n",
    "min_num = min(n,m)\n",
    "for i in range(1,min_num+1):\n",
    "    if n % i == 0 and m % i == 0:\n",
    "        print(i,end=' ')"
   ]
  },
  {
   "cell_type": "code",
   "execution_count": 18,
   "id": "18ac9cdb",
   "metadata": {},
   "outputs": [
    {
     "name": "stdout",
     "output_type": "stream",
     "text": [
      "請輸入兩數,求两數的公因數\n",
      "30與60的公因數有:1 2 3 5 6 10 15 30 "
     ]
    }
   ],
   "source": [
    "print(\"請輸入兩數,求两數的公因數\")\n",
    "num1:int = int(input(\"請輸入第一位整數:\"))\n",
    "num2:int = int(input(\"請輸入第二位整數:\"))\n",
    "print(f\"{num1}與{num2}的公因數有:\",end='')\n",
    "min_num = min(num1,num2)\n",
    "for i in range(1,min_num+1):\n",
    "  if num1 % i == 0 and num2 % i == 0:\n",
    "    print(f\"{i}\",end=\" \")"
   ]
  },
  {
   "cell_type": "code",
   "execution_count": 46,
   "id": "27a2a060",
   "metadata": {},
   "outputs": [
    {
     "name": "stdout",
     "output_type": "stream",
     "text": [
      "請輸入2數,求2數公因數:\n",
      "30的因數有: 1 2 3 5 6 10 15 30 \n",
      "60的因數有: 1 2 3 4 5 6 10 12 15 20 30 60 \n",
      "所以30和60的公因數有:1 2 3 5 6 10 15 "
     ]
    }
   ],
   "source": [
    "#求公因數\n",
    "print(\"請輸入2數,求2數公因數:\")\n",
    "n = int(input('請輸入第1個數:'))\n",
    "m = int(input('請輸入第2個數:'))\n",
    "p = min (n,m)\n",
    "print(f\"{n}的因數有:\",end=\" \") \n",
    "for i in range(1,n+1):\n",
    "    if n % i == 0:\n",
    "        print(i,end=\" \")\n",
    "print()\n",
    "print(f\"{m}的因數有:\",end=\" \" ) \n",
    "for j in range(1,m+1):\n",
    "    if m % j == 0:\n",
    "        print(j,end=\" \")\n",
    "print()\n",
    "print(f\"所以{n}和{m}的公因數有:\", end=\"\") \n",
    "for k in range(1,p):\n",
    "    if n % k == 0 and m % k == 0:\n",
    "        print(k, end=\" \")"
   ]
  }
 ],
 "metadata": {
  "kernelspec": {
   "display_name": "base",
   "language": "python",
   "name": "python3"
  },
  "language_info": {
   "codemirror_mode": {
    "name": "ipython",
    "version": 3
   },
   "file_extension": ".py",
   "mimetype": "text/x-python",
   "name": "python",
   "nbconvert_exporter": "python",
   "pygments_lexer": "ipython3",
   "version": "3.12.7"
  }
 },
 "nbformat": 4,
 "nbformat_minor": 5
}
