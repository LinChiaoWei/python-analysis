{
 "cells": [
  {
   "cell_type": "markdown",
   "id": "67764be9",
   "metadata": {},
   "source": [
    "# python\n",
    "## 流程控制\n",
    "### 判斷(if bool: /if bool:+true的程式區塊 / else:+false的程式區塊)"
   ]
  },
  {
   "cell_type": "markdown",
   "id": "bfd02702",
   "metadata": {},
   "source": [
    "## if->流程控制"
   ]
  },
  {
   "cell_type": "markdown",
   "id": "8f93a571",
   "metadata": {},
   "source": [
    "**單項選擇**"
   ]
  },
  {
   "cell_type": "code",
   "execution_count": 32,
   "id": "dec5e48c",
   "metadata": {},
   "outputs": [
    {
     "name": "stdout",
     "output_type": "stream",
     "text": [
      "這是單項選擇\n",
      "這是True的程式區塊\n"
     ]
    }
   ],
   "source": [
    "if True:    \n",
    "    print(\"這是單項選擇\")       \n",
    "    print(\"這是True的程式區塊\")\n"
   ]
  },
  {
   "cell_type": "code",
   "execution_count": 33,
   "id": "5475ec56",
   "metadata": {},
   "outputs": [
    {
     "name": "stdout",
     "output_type": "stream",
     "text": [
      "這是單項選擇\n",
      "這是True的程式區塊\n"
     ]
    }
   ],
   "source": [
    "if True:\n",
    "    print(\"這是單項選擇\")\n",
    "    print(\"這是True的程式區塊\")\n"
   ]
  },
  {
   "cell_type": "markdown",
   "id": "5f9feb84",
   "metadata": {},
   "source": [
    "**雙項選擇**"
   ]
  },
  {
   "cell_type": "code",
   "execution_count": 34,
   "id": "96651f59",
   "metadata": {},
   "outputs": [
    {
     "name": "stdout",
     "output_type": "stream",
     "text": [
      "這是雙項選擇\n",
      "這是False的程式區塊\n"
     ]
    }
   ],
   "source": [
    "if False:\n",
    "    print(\"這是雙項選擇\")\n",
    "    print(\"這是True的程式區塊\")\n",
    "else:\n",
    "    print(\"這是雙項選擇\")\n",
    "    print(\"這是False的程式區塊\")"
   ]
  },
  {
   "cell_type": "code",
   "execution_count": 35,
   "id": "99e56709",
   "metadata": {},
   "outputs": [
    {
     "name": "stdout",
     "output_type": "stream",
     "text": [
      "這是雙項選擇\n",
      "這是False的程式區塊\n"
     ]
    }
   ],
   "source": [
    "if False:\n",
    "        print(\"這是雙項選擇\")   \n",
    "        print(\"這是True的程式區塊\")\n",
    "else:\n",
    "    print(\"這是雙項選擇\")   \n",
    "    print(\"這是False的程式區塊\") \n"
   ]
  },
  {
   "cell_type": "code",
   "execution_count": 36,
   "id": "2bbd42d4",
   "metadata": {},
   "outputs": [
    {
     "data": {
      "text/plain": [
       "False"
      ]
     },
     "execution_count": 36,
     "metadata": {},
     "output_type": "execute_result"
    }
   ],
   "source": [
    "5 > 3\n",
    "20 == 20 #==為兩邊是否相等\n",
    "20 != 20 #!+為兩邊是否不相等"
   ]
  },
  {
   "cell_type": "code",
   "execution_count": 43,
   "id": "93741ede",
   "metadata": {},
   "outputs": [
    {
     "name": "stdout",
     "output_type": "stream",
     "text": [
      "未能年\n"
     ]
    }
   ],
   "source": [
    "age = int(input(\"請輸入age\"))\n",
    "if age < 18:\n",
    "    print(\"未能年\")\n",
    "else:\n",
    "    print(\"成年\")    "
   ]
  },
  {
   "cell_type": "markdown",
   "id": "9255406c",
   "metadata": {},
   "source": [
    "*學生總分為300  \n",
    "*有些學生可以加分5%  \n",
    "*如果加分超過300分以300分計算"
   ]
  },
  {
   "cell_type": "code",
   "execution_count": null,
   "id": "e127ceb9",
   "metadata": {},
   "outputs": [
    {
     "name": "stdout",
     "output_type": "stream",
     "text": [
      "學生分數是:300\n"
     ]
    }
   ],
   "source": [
    "scores = int(input(\"請輸入學生分數(最高300分:)\"))\n",
    "is_add = input(\"學生是否符合加分條件?(y,n)\")\n",
    "if (is_add ==\"y\"):\n",
    "    scores *= 1.05\n",
    "    if scores > 300:   #巢狀判斷\n",
    "        scores = 300\n",
    "print(f\"學生分數是:{round(scores)}\")\n",
    "\n",
    "\n"
   ]
  },
  {
   "cell_type": "markdown",
   "id": "3a761970",
   "metadata": {},
   "source": [
    "**處理raise Exception**  \n",
    "** try except:處理錯誤**"
   ]
  },
  {
   "cell_type": "code",
   "execution_count": null,
   "id": "91fc21ac",
   "metadata": {},
   "outputs": [
    {
     "ename": "ZeroDivisionError",
     "evalue": "division by zero",
     "output_type": "error",
     "traceback": [
      "\u001b[0;31m---------------------------------------------------------------------------\u001b[0m",
      "\u001b[0;31mZeroDivisionError\u001b[0m                         Traceback (most recent call last)",
      "Cell \u001b[0;32mIn[31], line 1\u001b[0m\n\u001b[0;32m----> 1\u001b[0m \u001b[38;5;241m25\u001b[39m \u001b[38;5;241m/\u001b[39m \u001b[38;5;241m0\u001b[39m\n",
      "\u001b[0;31mZeroDivisionError\u001b[0m: division by zero"
     ]
    }
   ],
   "source": [
    "25 / 0"
   ]
  },
  {
   "cell_type": "code",
   "execution_count": null,
   "id": "b734f61e",
   "metadata": {},
   "outputs": [
    {
     "name": "stdout",
     "output_type": "stream",
     "text": [
      "發生錯誤\n"
     ]
    }
   ],
   "source": [
    "try:\n",
    "    25 / 0 # raise ZeroDivisionError\n",
    "except:\n",
    "    print(\"發生錯誤\")"
   ]
  },
  {
   "cell_type": "code",
   "execution_count": 39,
   "id": "b70265ee",
   "metadata": {},
   "outputs": [
    {
     "name": "stdout",
     "output_type": "stream",
     "text": [
      "25.0\n",
      "程式結束\n"
     ]
    }
   ],
   "source": [
    "divitionBy = 1\n",
    "try:\n",
    "    print(25 / divitionBy)\n",
    "except:\n",
    "    print(\"發生錯誤\")\n",
    "    \n",
    "print(\"程式結束\")"
   ]
  },
  {
   "cell_type": "code",
   "execution_count": 40,
   "id": "a93ea36a",
   "metadata": {},
   "outputs": [
    {
     "name": "stdout",
     "output_type": "stream",
     "text": [
      "發生錯誤\n",
      "程式結束\n"
     ]
    }
   ],
   "source": [
    "divitionBy = 0\n",
    "try:\n",
    "    print(25 / divitionBy)\n",
    "except:\n",
    "    print(\"發生錯誤\")\n",
    "    \n",
    "print(\"程式結束\")"
   ]
  },
  {
   "cell_type": "markdown",
   "id": "96fcdabd",
   "metadata": {},
   "source": [
    "**多個except**  \n",
    "***程式只能執行一個except***"
   ]
  },
  {
   "cell_type": "code",
   "execution_count": null,
   "id": "6f0f952e",
   "metadata": {},
   "outputs": [
    {
     "name": "stdout",
     "output_type": "stream",
     "text": [
      "除數不可為0\n",
      "程式結束\n"
     ]
    }
   ],
   "source": [
    "divitionBy = 0\n",
    "try:\n",
    "    print(25 / divitionBy)\n",
    "except ZeroDivisionError:\n",
    "    print(\"除數不可為0\")\n",
    "except:\n",
    "    print(\"發生不知名的錯誤\")    \n",
    "print(\"程式結束\")"
   ]
  },
  {
   "cell_type": "code",
   "execution_count": null,
   "id": "7cbf07a9",
   "metadata": {},
   "outputs": [
    {
     "name": "stdout",
     "output_type": "stream",
     "text": [
      "發生不知名的錯誤\n",
      "程式結束\n"
     ]
    }
   ],
   "source": [
    "divitionBy = 0\n",
    "try:\n",
    "    print(30 / \"10\")  #另一個錯誤,數字無法除以字串\n",
    "    print(25 / divitionBy)\n",
    "except ZeroDivisionError:\n",
    "    print(\"除數不可為0\")\n",
    "except:\n",
    "    print(\"發生不知名的錯誤\")    \n",
    "print(\"程式結束\")"
   ]
  },
  {
   "cell_type": "code",
   "execution_count": null,
   "id": "c8e995f4",
   "metadata": {},
   "outputs": [
    {
     "name": "stdout",
     "output_type": "stream",
     "text": [
      "發生不知名的錯誤!\n",
      "應用程式結束\n"
     ]
    }
   ],
   "source": [
    "try:\n",
    "    scores = int(input(\"請輸入學生分數(最高300分:)\")) #因為分數只能是int(整數)\n",
    "    is_add = input(\"學生是否符合加分條件?(y,n)\")\n",
    "    if (is_add ==\"y\"):\n",
    "        scores *= 1.05\n",
    "        if scores > 300:   #巢狀判斷\n",
    "            scores = 300\n",
    "    print(f\"學生分數是:{round(scores)}\")\n",
    "except:\n",
    "    print(\"發生不知名的錯誤!\")\n",
    "print(\"應用程式結束\")"
   ]
  },
  {
   "cell_type": "code",
   "execution_count": null,
   "id": "1588d2e2",
   "metadata": {},
   "outputs": [
    {
     "name": "stdout",
     "output_type": "stream",
     "text": [
      "學生分數是:300\n",
      "應用程式結束\n"
     ]
    }
   ],
   "source": [
    "try:\n",
    "    scores = float(input(\"請輸入學生分數(最高300分:)\")) #改為float,程式就能正常執行\n",
    "    is_add = input(\"學生是否符合加分條件?(y,n)\")\n",
    "    if (is_add ==\"y\"):\n",
    "        scores *= 1.05\n",
    "        if scores > 300:   #巢狀判斷\n",
    "            scores = 300\n",
    "    print(f\"學生分數是:{round(scores)}\")\n",
    "except:\n",
    "    print(\"發生不知名的錯誤!\")\n",
    "print(\"應用程式結束\")"
   ]
  },
  {
   "cell_type": "code",
   "execution_count": null,
   "id": "b807309b",
   "metadata": {},
   "outputs": [],
   "source": [
    "value = int(input(\"輸入數值\"))\n"
   ]
  }
 ],
 "metadata": {
  "kernelspec": {
   "display_name": "base",
   "language": "python",
   "name": "python3"
  },
  "language_info": {
   "codemirror_mode": {
    "name": "ipython",
    "version": 3
   },
   "file_extension": ".py",
   "mimetype": "text/x-python",
   "name": "python",
   "nbconvert_exporter": "python",
   "pygments_lexer": "ipython3",
   "version": "3.12.7"
  }
 },
 "nbformat": 4,
 "nbformat_minor": 5
}
