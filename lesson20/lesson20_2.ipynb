{
 "cells": [
  {
   "cell_type": "code",
   "execution_count": null,
   "id": "db7c0e9c",
   "metadata": {},
   "outputs": [],
   "source": [
    "import pandas as pd\n",
    "from pandas import DataFrame\n",
    "\n",
    "df:DataFrame = pd.read_csv('各鄉鎮市區人口密度.csv')\n",
    "df1 = df.drop(index=0)\n",
    "df2 = df1.rename(columns={'statistic_yyy':'統計年',\n",
    "    'site_id':'區域別',\n",
    "    'people_total':'年底人口數',\n",
    "    'area':'土地面積',\n",
    "    'population_density':'人口密度'})\n",
    "df3 = df2.dropna()\n",
    "df4 = df3.replace('… ',0)\n",
    "df4['年底人口數'] = df4['年底人口數'].astype(int)\n",
    "df4['土地面積'] = df4['土地面積'].astype(float)\n",
    "df4['人口密度'] = df4['人口密度'].astype(int)\n",
    "\n",
    "def get_area(value:str) -> str:\n",
    "    if len(value)>4:\n",
    "        return value[:3]\n",
    "    else:\n",
    "        return value\n",
    "\n",
    "\n",
    "df4['縣市'] = df4['區域別'].apply(get_area)\n",
    "def delete_area(value:str,n) -> str:\n",
    "    if len(value)>n:\n",
    "        return value[-3:]\n",
    "    else:\n",
    "        return value\n",
    "\n",
    "df4['區域別'] = df4['區域別'].apply(delete_area,n=4)\n",
    "df4"
   ]
  },
  {
   "cell_type": "code",
   "execution_count": null,
   "id": "28751533",
   "metadata": {},
   "outputs": [],
   "source": [
    "df5 = df4.set_index(['縣市','區域別'])"
   ]
  },
  {
   "cell_type": "code",
   "execution_count": null,
   "id": "6e78912e",
   "metadata": {},
   "outputs": [],
   "source": [
    "df5.reset_index()"
   ]
  },
  {
   "cell_type": "code",
   "execution_count": null,
   "id": "0b4f9673",
   "metadata": {},
   "outputs": [],
   "source": [
    "#df5[['年底人口數','土地面積']].unstack(level='縣市')"
   ]
  },
  {
   "cell_type": "code",
   "execution_count": null,
   "id": "a884e9c0",
   "metadata": {},
   "outputs": [],
   "source": [
    "#groupby的實體可以[] -> 選擇欄位\n",
    "#groupby的實體.統計的functiom\n",
    "df5.groupby(level='縣市')[['年底人口數','土地面積']].sum()"
   ]
  }
 ],
 "metadata": {
  "kernelspec": {
   "display_name": "myenv",
   "language": "python",
   "name": "python3"
  },
  "language_info": {
   "codemirror_mode": {
    "name": "ipython",
    "version": 3
   },
   "file_extension": ".py",
   "mimetype": "text/x-python",
   "name": "python",
   "nbconvert_exporter": "python",
   "pygments_lexer": "ipython3",
   "version": "3.10.16"
  }
 },
 "nbformat": 4,
 "nbformat_minor": 5
}
