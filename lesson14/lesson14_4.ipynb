{
 "cells": [
  {
   "cell_type": "markdown",
   "id": "7b56b9a2",
   "metadata": {},
   "source": [
    "### python內部資料結構:list/dictionary"
   ]
  },
  {
   "cell_type": "code",
   "execution_count": 1,
   "id": "11e1369c",
   "metadata": {},
   "outputs": [
    {
     "data": {
      "text/plain": [
       "[7, 9, 11, 13, 15]"
      ]
     },
     "execution_count": 1,
     "metadata": {},
     "output_type": "execute_result"
    }
   ],
   "source": [
    "l1 = [2, 3, 4, 5, 6]\n",
    "l2 = [5, 6, 7, 8, 9]\n",
    "\n",
    "#list complihensison\n",
    "l3 = [value1 + value2 for value1, value2 in zip(l1, l2)]\n",
    "l3"
   ]
  },
  {
   "cell_type": "code",
   "execution_count": null,
   "id": "c8f57937",
   "metadata": {},
   "outputs": [
    {
     "data": {
      "text/plain": [
       "[2, 3, 4, 5, 6, 5, 6, 7, 8, 9]"
      ]
     },
     "execution_count": 2,
     "metadata": {},
     "output_type": "execute_result"
    }
   ],
   "source": [
    "l1 + l2 #值不會相加 而是產生新的list"
   ]
  },
  {
   "cell_type": "markdown",
   "id": "f8da0c76",
   "metadata": {},
   "source": [
    "### python外部資料結構:numpy/pandas"
   ]
  },
  {
   "cell_type": "code",
   "execution_count": null,
   "id": "83c60a30",
   "metadata": {},
   "outputs": [],
   "source": [
    "!pip install numpy"
   ]
  },
  {
   "cell_type": "code",
   "execution_count": null,
   "id": "58bc441d",
   "metadata": {},
   "outputs": [],
   "source": [
    "!pip install pandas"
   ]
  },
  {
   "cell_type": "markdown",
   "id": "5ca54b8a",
   "metadata": {},
   "source": [
    "### 外部套件每次使用都要呼叫(import)\n"
   ]
  },
  {
   "cell_type": "code",
   "execution_count": 11,
   "id": "82b78fb8",
   "metadata": {},
   "outputs": [],
   "source": [
    "import numpy as np\n",
    "import pandas as pd"
   ]
  },
  {
   "cell_type": "code",
   "execution_count": 12,
   "id": "63a5de75",
   "metadata": {},
   "outputs": [
    {
     "data": {
      "text/plain": [
       "numpy.ndarray"
      ]
     },
     "execution_count": 12,
     "metadata": {},
     "output_type": "execute_result"
    }
   ],
   "source": [
    "type(np.array([2, 3, 4, 5, 6])) #ndarray跟list相似"
   ]
  },
  {
   "cell_type": "markdown",
   "id": "cdfb3442",
   "metadata": {},
   "source": [
    "### ndarray 使用\n",
    "- 陣列運算\n",
    "- 科學運算\n",
    "- 統計"
   ]
  },
  {
   "cell_type": "code",
   "execution_count": 14,
   "id": "ba57c3cc",
   "metadata": {},
   "outputs": [
    {
     "data": {
      "text/plain": [
       "array([ 7,  9, 11, 13, 15])"
      ]
     },
     "execution_count": 14,
     "metadata": {},
     "output_type": "execute_result"
    }
   ],
   "source": [
    "n1 = np.array([2, 3, 4, 5, 6])\n",
    "n2 = np.array([5, 6, 7, 8, 9])\n",
    "\n",
    "n3 = n1 + n2\n",
    "n3"
   ]
  }
 ],
 "metadata": {
  "kernelspec": {
   "display_name": "myenv",
   "language": "python",
   "name": "python3"
  },
  "language_info": {
   "codemirror_mode": {
    "name": "ipython",
    "version": 3
   },
   "file_extension": ".py",
   "mimetype": "text/x-python",
   "name": "python",
   "nbconvert_exporter": "python",
   "pygments_lexer": "ipython3",
   "version": "3.10.16"
  }
 },
 "nbformat": 4,
 "nbformat_minor": 5
}
