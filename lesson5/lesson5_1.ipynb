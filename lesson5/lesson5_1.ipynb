{
 "cells": [
  {
   "cell_type": "markdown",
   "id": "0b923d33",
   "metadata": {},
   "source": [
    "### 巢狀判斷\n",
    "- 貓\n",
    "- 熊\n",
    "- 蜥蜴\n",
    "- 人類"
   ]
  },
  {
   "cell_type": "code",
   "execution_count": 24,
   "id": "220eca8e",
   "metadata": {},
   "outputs": [
    {
     "name": "stdout",
     "output_type": "stream",
     "text": [
      "人類\n"
     ]
    }
   ],
   "source": [
    "furry:bool = False\n",
    "small:bool = False\n",
    "\n",
    "if furry:\n",
    "    if small:\n",
    "        print(\"貓\")\n",
    "    else:\n",
    "        print(\"熊\")\n",
    "else:\n",
    "    if small:\n",
    "        print(\"蜥蜴\")\n",
    "    else:\n",
    "        print(\"人類\")\n"
   ]
  },
  {
   "cell_type": "code",
   "execution_count": 25,
   "id": "a10802d0",
   "metadata": {},
   "outputs": [
    {
     "name": "stdout",
     "output_type": "stream",
     "text": [
      "蜥蜴\n"
     ]
    }
   ],
   "source": [
    "furry:bool = False\n",
    "small:bool = True\n",
    "\n",
    "if furry:\n",
    "    if small:\n",
    "        print(\"貓\")\n",
    "    else:\n",
    "        print(\"熊\")\n",
    "else:\n",
    "    if small:\n",
    "        print(\"蜥蜴\")\n",
    "    else:\n",
    "        print(\"人類\")\n"
   ]
  },
  {
   "cell_type": "markdown",
   "id": "268e05d1",
   "metadata": {},
   "source": [
    "- 分數小於60=不及格\n",
    "- 分數大於60且小於80=及格\n",
    "- 分數大於80=優"
   ]
  },
  {
   "cell_type": "code",
   "execution_count": 26,
   "id": "b75a1985",
   "metadata": {},
   "outputs": [
    {
     "name": "stdout",
     "output_type": "stream",
     "text": [
      "學生等級:優\n"
     ]
    }
   ],
   "source": [
    "score:int = int(input(\"清輸入學生分數\"))\n",
    "if score >= 80:\n",
    "    grade:str = '優'\n",
    "else:\n",
    "    #小於80\n",
    "    if score >= 60:\n",
    "        #小於80同時大於等於60\n",
    "        grade:str = '及格'\n",
    "    else:\n",
    "        grade:str = '不及格'\n",
    "print(f\"學生等級:{grade}\")"
   ]
  },
  {
   "cell_type": "markdown",
   "id": "7253c8bb",
   "metadata": {},
   "source": [
    "### 多項選擇"
   ]
  },
  {
   "cell_type": "code",
   "execution_count": 31,
   "id": "9cdbdba5",
   "metadata": {},
   "outputs": [
    {
     "name": "stdout",
     "output_type": "stream",
     "text": [
      "學生等級:不及格\n"
     ]
    }
   ],
   "source": [
    "score:int = int(input(\"請輸入學生分數:\"))\n",
    "if score >= 80:\n",
    "    grade:str = '優'\n",
    "elif score >= 60:\n",
    "     grade:str = '及格'\n",
    "else:\n",
    "    grade:str = '不及格'\n",
    "\n",
    "print(f\"學生等級:{grade}\")"
   ]
  },
  {
   "cell_type": "code",
   "execution_count": 35,
   "id": "f5ff3f43",
   "metadata": {},
   "outputs": [
    {
     "name": "stdout",
     "output_type": "stream",
     "text": [
      "級距:優\n"
     ]
    }
   ],
   "source": [
    "分數=int(input(\"輸入數字\"))\n",
    "if 分數 >= 90:\n",
    "    級距='優'\n",
    "elif 分數 >= 65:\n",
    "    級距='及格'\n",
    "else:\n",
    "    級距='不及格'\n",
    "print(f\"級距:{級距}\")"
   ]
  },
  {
   "cell_type": "markdown",
   "id": "21433b85",
   "metadata": {},
   "source": [
    "- 90(含)~100分為「優」\n",
    "- 80(含)~89分為「甲」\n",
    "- 70(含)~79分為「乙」\n",
    "- 60(含)~69分為「丙」\n",
    "- 0(含)~59分為「丁」"
   ]
  },
  {
   "cell_type": "code",
   "execution_count": 36,
   "id": "5c5d7974",
   "metadata": {},
   "outputs": [
    {
     "name": "stdout",
     "output_type": "stream",
     "text": [
      "學生等級:乙\n"
     ]
    }
   ],
   "source": [
    "score:int = int(input(\"請輸入學生分數:\"))\n",
    "if score >= 90:\n",
    "    grade:str = '優'\n",
    "elif score >= 80:\n",
    "     grade:str = '甲'\n",
    "elif score >= 70:\n",
    "     grade:str = '乙'\n",
    "elif score >= 60:\n",
    "     grade:str = '丙'    \n",
    "else:\n",
    "    grade:str = '丁'\n",
    "\n",
    "print(f\"學生等級:{grade}\")"
   ]
  },
  {
   "cell_type": "markdown",
   "id": "36e5aa2d",
   "metadata": {},
   "source": [
    "###　輸入顧客購買金額,若金額在\n",
    "\n",
    "- 100000元打8折.\n",
    "- 50000打85折.\n",
    "- 30000打9折.\n",
    "- 10000打95折."
   ]
  },
  {
   "cell_type": "code",
   "execution_count": 37,
   "id": "9ce9771d",
   "metadata": {},
   "outputs": [
    {
     "name": "stdout",
     "output_type": "stream",
     "text": [
      "實付金額是:57800\n"
     ]
    }
   ],
   "source": [
    "money:int = int(input(\"請輸入購買金額\"))\n",
    "if money < 10000:\n",
    "    pay_money:int = money\n",
    "elif money <30000:\n",
    "    pay_money:int = round(money *0.95)\n",
    "elif money <50000:\n",
    "    pay_money:int = round(money *0.9)\n",
    "elif money <100000:\n",
    "    pay_money:int = round(money *0.85)\n",
    "else:\n",
    "    pay_money:int = round(money *0.8)\n",
    "\n",
    "\n",
    "print(f\"實付金額是:{pay_money}\")"
   ]
  },
  {
   "cell_type": "markdown",
   "id": "4421ab56",
   "metadata": {},
   "source": [
    "### 巢狀判斷"
   ]
  },
  {
   "cell_type": "code",
   "execution_count": 38,
   "id": "c1dff5f2",
   "metadata": {},
   "outputs": [
    {
     "name": "stdout",
     "output_type": "stream",
     "text": [
      "獎金:0\n"
     ]
    }
   ],
   "source": [
    "# 國文100同於數學100,獎金1000\n",
    "# 只有一科100分,獎金500\n",
    "chinese = int(input(\"請輸入國文分數\"))\n",
    "math = int(input(\"請輸入數學分數\"))\n",
    "#巢狀判斷\n",
    "bonus = 0\n",
    "if chinese == 100:\n",
    "    if math == 100:\n",
    "        bonus = 1000\n",
    "    else:\n",
    "        bonus = 500\n",
    "elif math == 100:\n",
    "    bonus = 500\n",
    "\n",
    "print(f\"獎金:{bonus}\")"
   ]
  },
  {
   "cell_type": "code",
   "execution_count": null,
   "id": "230f073c",
   "metadata": {},
   "outputs": [],
   "source": [
    "# 國文100同於數學100,獎金1000\n",
    "# 只有一科100分,獎金500\n",
    "chinese = int(input(\"請輸入國文分數\"))\n",
    "math = int(input(\"請輸入數學分數\"))\n",
    "#邏輯運算子\n",
    "bonus = 0\n",
    "if chinese == 100 and math == 100:\n",
    "    bonus = 1000\n",
    "elif chinese == 100 or math == 100:\n",
    "     bonus = 500\n",
    "\n",
    "print(f\"獎金:{bonus}\")"
   ]
  },
  {
   "cell_type": "markdown",
   "id": "9e57cc50",
   "metadata": {},
   "source": [
    "### not 使用方法\n",
    "- Ture區塊跟False區塊,對調"
   ]
  },
  {
   "cell_type": "code",
   "execution_count": 60,
   "id": "6cedc305",
   "metadata": {},
   "outputs": [
    {
     "name": "stdout",
     "output_type": "stream",
     "text": [
      "可以考駕照\n"
     ]
    }
   ],
   "source": [
    "age = int(input(\"請輸入age\"))\n",
    "if age < 18:\n",
    "    print(\"不可以考駕照\")\n",
    "else:\n",
    "    print(\"可以考駕照\")"
   ]
  },
  {
   "cell_type": "code",
   "execution_count": 59,
   "id": "cd875622",
   "metadata": {},
   "outputs": [
    {
     "name": "stdout",
     "output_type": "stream",
     "text": [
      "不可以考駕照\n"
     ]
    }
   ],
   "source": [
    "age = int(input(\"請輸入age\"))\n",
    "if  not age < 18:\n",
    "    print(\"可以考駕照\")\n",
    "else:\n",
    "    print(\"不可以考駕照\")"
   ]
  },
  {
   "cell_type": "markdown",
   "id": "943e158f",
   "metadata": {},
   "source": [
    "### BMI練習"
   ]
  },
  {
   "cell_type": "code",
   "execution_count": 64,
   "id": "55e6b135",
   "metadata": {},
   "outputs": [
    {
     "name": "stdout",
     "output_type": "stream",
     "text": [
      "BMI:17.5\n",
      "體重過輕\n"
     ]
    }
   ],
   "source": [
    "體重 = float(input(\"請輸入體重(kg)\"))\n",
    "身高 = float(input(\"請輸入身高(cm)\"))/100\n",
    "BMI =round(體重/(身高*身高),1)\n",
    "print(f\"BMI:{BMI}\")\n",
    "if BMI >= 35:\n",
    "    print(\"重度肥胖\")\n",
    "elif BMI >= 30:\n",
    "    print(\"中度肥胖\")\n",
    "elif BMI >= 30:\n",
    "    print(\"中度肥胖\")\n",
    "elif BMI >= 27:\n",
    "    print(\"輕度肥胖\")\n",
    "elif BMI >= 24:\n",
    "    print(\"過重\")\n",
    "elif BMI >= 18.5:\n",
    "    print(\"正常範圍\")\n",
    "else:\n",
    "    print(\"體重過輕\")"
   ]
  }
 ],
 "metadata": {
  "kernelspec": {
   "display_name": "base",
   "language": "python",
   "name": "python3"
  },
  "language_info": {
   "codemirror_mode": {
    "name": "ipython",
    "version": 3
   },
   "file_extension": ".py",
   "mimetype": "text/x-python",
   "name": "python",
   "nbconvert_exporter": "python",
   "pygments_lexer": "ipython3",
   "version": "3.12.7"
  }
 },
 "nbformat": 4,
 "nbformat_minor": 5
}
